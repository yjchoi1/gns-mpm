{
 "cells": [
  {
   "cell_type": "code",
   "execution_count": 1,
   "id": "2827f558",
   "metadata": {
    "pycharm": {
     "name": "#%%\n"
    }
   },
   "outputs": [
    {
     "name": "stderr",
     "output_type": "stream",
     "text": [
      "/home/yjc/Documents/gns-2/venv/lib/python3.10/site-packages/tqdm/auto.py:22: TqdmWarning: IProgress not found. Please update jupyter and ipywidgets. See https://ipywidgets.readthedocs.io/en/stable/user_install.html\n",
      "  from .autonotebook import tqdm as notebook_tqdm\n"
     ]
    }
   ],
   "source": [
    "import torch\n",
    "import torch_geometric\n",
    "from torch_geometric.nn import radius_graph\n",
    "from gns import data_loader\n",
    "import numpy as np\n",
    "import networkx as nx\n",
    "from matplotlib import pyplot as plt\n",
    "from collections import defaultdict\n",
    "import sys"
   ]
  },
  {
   "cell_type": "markdown",
   "id": "ff06aa35",
   "metadata": {
    "pycharm": {
     "name": "#%% md\n"
    }
   },
   "source": [
    "# Check `train.py` Created with MPM Results"
   ]
  },
  {
   "cell_type": "code",
   "execution_count": 3,
   "id": "bb45e0af",
   "metadata": {
    "pycharm": {
     "name": "#%%\n"
    }
   },
   "outputs": [
    {
     "name": "stdout",
     "output_type": "stream",
     "text": [
      "MPM trajectory ID: simulation_trajectory_0\n",
      "Position data of trajectory: (320, 6400, 2)\n",
      "Material type:(6400,)\n",
      "MPM trajectory ID: simulation_trajectory_1\n",
      "Position data of trajectory: (320, 6400, 2)\n",
      "Material type:(6400,)\n",
      "MPM trajectory ID: simulation_trajectory_2\n",
      "Position data of trajectory: (320, 6400, 2)\n",
      "Material type:(6400,)\n",
      "MPM trajectory ID: simulation_trajectory_3\n",
      "Position data of trajectory: (320, 6400, 2)\n",
      "Material type:(6400,)\n",
      "MPM trajectory ID: simulation_trajectory_4\n",
      "Position data of trajectory: (320, 6400, 2)\n",
      "Material type:(6400,)\n",
      "MPM trajectory ID: simulation_trajectory_5\n",
      "Position data of trajectory: (320, 6400, 2)\n",
      "Material type:(6400,)\n",
      "MPM trajectory ID: simulation_trajectory_6\n",
      "Position data of trajectory: (320, 6400, 2)\n",
      "Material type:(6400,)\n",
      "MPM trajectory ID: simulation_trajectory_7\n",
      "Position data of trajectory: (320, 7200, 2)\n",
      "Material type:(7200,)\n",
      "MPM trajectory ID: simulation_trajectory_8\n",
      "Position data of trajectory: (320, 4800, 2)\n",
      "Material type:(4800,)\n"
     ]
    }
   ],
   "source": [
    "data_path = \"../gns-data/datasets/sand-2d/train.npz\"\n",
    "npz_data = np.load(data_path, allow_pickle=True)\n",
    "for id, trajectory in npz_data.items():\n",
    "    print(f'MPM trajectory ID: {id}')\n",
    "    print(f'Position data of trajectory: {trajectory[0].shape}')\n",
    "    print(f'Material type:{trajectory[1].shape}')"
   ]
  },
  {
   "cell_type": "markdown",
   "id": "4ea6f35c",
   "metadata": {
    "pycharm": {
     "name": "#%% md\n"
    }
   },
   "source": [
    "# See How torch `raius_graph` Works"
   ]
  },
  {
   "cell_type": "markdown",
   "id": "f230e17b",
   "metadata": {
    "pycharm": {
     "name": "#%% md\n"
    }
   },
   "source": [
    "All the nodes are conncected because all of the noede features are in each nodes connectivity radius."
   ]
  },
  {
   "cell_type": "code",
   "execution_count": 26,
   "id": "5ab42e0a",
   "metadata": {
    "pycharm": {
     "name": "#%%\n"
    }
   },
   "outputs": [
    {
     "data": {
      "image/png": "[encoded data removed]",
      "text/plain": [
       "<Figure size 432x288 with 1 Axes>"
      ]
     },
     "metadata": {},
     "output_type": "display_data"
    }
   ],
   "source": [
    "node_features = torch.tensor([[0, 0],\n",
    "                              [1, 0],\n",
    "                              [1, 1],\n",
    "                              [0, 1]])\n",
    "\n",
    "edge_index = radius_graph(\n",
    "    node_features, r=2, batch=None, loop=True)\n",
    "\n",
    "data = torch_geometric.data.Data(x=node_features, edge_index=edge_index)\n",
    "g = torch_geometric.utils.to_networkx(data, to_undirected=False, remove_self_loops=False)\n",
    "# plt.figure()\n",
    "nx.draw(g, with_labels=True)\n",
    "plt.show()"
   ]
  },
  {
   "cell_type": "markdown",
   "id": "77426036",
   "metadata": {
    "pycharm": {
     "name": "#%% md\n"
    }
   },
   "source": [
    "See the shape of node features and edge features"
   ]
  },
  {
   "cell_type": "code",
   "execution_count": 9,
   "id": "985e1680",
   "metadata": {
    "pycharm": {
     "name": "#%%\n"
    }
   },
   "outputs": [
    {
     "data": {
      "text/plain": [
       "Data(x=[4, 2], edge_index=[2, 16])"
      ]
     },
     "execution_count": 9,
     "metadata": {},
     "output_type": "execute_result"
    }
   ],
   "source": [
    "data"
   ]
  },
  {
   "cell_type": "markdown",
   "id": "e3b9e950",
   "metadata": {
    "pycharm": {
     "name": "#%% md\n"
    }
   },
   "source": [
    "Beside these, you can look more into details about graph `data`."
   ]
  },
  {
   "cell_type": "code",
   "execution_count": 14,
   "id": "d5a765fc",
   "metadata": {
    "pycharm": {
     "name": "#%%\n"
    }
   },
   "outputs": [
    {
     "name": "stdout",
     "output_type": "stream",
     "text": [
      "['edge_index', 'x']\n"
     ]
    }
   ],
   "source": [
    "print(data.keys)"
   ]
  },
  {
   "cell_type": "code",
   "execution_count": 15,
   "id": "be8e1a21",
   "metadata": {
    "pycharm": {
     "name": "#%%\n"
    }
   },
   "outputs": [
    {
     "name": "stdout",
     "output_type": "stream",
     "text": [
      "tensor([[0, 0],\n",
      "        [1, 0],\n",
      "        [1, 1],\n",
      "        [0, 1]])\n"
     ]
    }
   ],
   "source": [
    "print(data['x'])"
   ]
  },
  {
   "cell_type": "code",
   "execution_count": 16,
   "id": "76cc5291",
   "metadata": {
    "pycharm": {
     "name": "#%%\n"
    }
   },
   "outputs": [
    {
     "name": "stdout",
     "output_type": "stream",
     "text": [
      "tensor([[0, 1, 2, 3, 0, 1, 2, 3, 0, 1, 2, 3, 0, 1, 2, 3],\n",
      "        [0, 0, 0, 0, 1, 1, 1, 1, 2, 2, 2, 2, 3, 3, 3, 3]])\n"
     ]
    }
   ],
   "source": [
    "print(data['edge_index'])"
   ]
  },
  {
   "cell_type": "code",
   "execution_count": 19,
   "id": "d70ea6eb",
   "metadata": {
    "pycharm": {
     "name": "#%%\n"
    }
   },
   "outputs": [
    {
     "name": "stdout",
     "output_type": "stream",
     "text": [
      "x found in data\n",
      "tensor([[0, 0],\n",
      "        [1, 0],\n",
      "        [1, 1],\n",
      "        [0, 1]]) found in data\n",
      "edge_index found in data\n",
      "tensor([[0, 1, 2, 3, 0, 1, 2, 3, 0, 1, 2, 3, 0, 1, 2, 3],\n",
      "        [0, 0, 0, 0, 1, 1, 1, 1, 2, 2, 2, 2, 3, 3, 3, 3]]) found in data\n"
     ]
    }
   ],
   "source": [
    "for key, item in data:\n",
    "    print(f'{key} found in data')\n",
    "    print(f'{item} found in data')"
   ]
  },
  {
   "cell_type": "markdown",
   "id": "84081784",
   "metadata": {
    "pycharm": {
     "name": "#%% md\n"
    }
   },
   "source": [
    "# Steps for Implementing Conservation of Mementum in GNS"
   ]
  },
  {
   "cell_type": "markdown",
   "id": "c2a965c1",
   "metadata": {
    "pycharm": {
     "name": "#%% md\n"
    }
   },
   "source": [
    "## Shape of batch in GNS"
   ]
  },
  {
   "cell_type": "markdown",
   "id": "9168fda4",
   "metadata": {
    "pycharm": {
     "name": "#%% md\n"
    }
   },
   "source": [
    "Our `train.py` is a dictionary of \"simulation_trajectories\". Each has trajectory length of 320. The `data_loader_by_samples` samples a training examples ((positions, sequence of current 6 positions, dim), (next ground truth position)) for 2 batches"
   ]
  },
  {
   "cell_type": "code",
   "execution_count": 27,
   "id": "02b49559",
   "metadata": {
    "pycharm": {
     "name": "#%%\n"
    }
   },
   "outputs": [
    {
     "name": "stdout",
     "output_type": "stream",
     "text": [
      "1413\n",
      "torch.Size([12800, 6, 2])\n",
      "torch.Size([12800])\n",
      "torch.Size([2])\n",
      "tensor([6400, 6400])\n",
      "torch.Size([12800, 2])\n",
      "0\n"
     ]
    }
   ],
   "source": [
    "data_path = \"../gns-data/datasets/sand-2d/\"\n",
    "ds = data_loader.get_data_loader_by_samples(path=f\"{data_path}train.npz\",\n",
    "                                              input_length_sequence=6,\n",
    "                                              batch_size=2,\n",
    "                                              shuffle=False)\n",
    "\n",
    "# length of ds is, (trajectory_length - 6)*(n_trajectory)/2\n",
    "print(len(ds)) # 1413 =  (320-6)*9 / 2\n",
    "\n",
    "# Look at the first 2 trajectory.\n",
    "for i, ((position, particle_type, n_particles_per_example), labels) in enumerate(ds):\n",
    "    if i == 1:\n",
    "        break\n",
    "    print(position.shape)  # torch.Size([12800, 6, 2])\n",
    "    print(particle_type.shape)  # torch.Size([12800])\n",
    "    print(n_particles_per_example.shape)  # torch.Size([2])\n",
    "    print(n_particles_per_example)  # tensor([6400, 6400])\n",
    "    print(labels.shape)  # torch.Size([12800, 2])\n",
    "    print(i)"
   ]
  },
  {
   "cell_type": "markdown",
   "id": "d7af6b61",
   "metadata": {
    "pycharm": {
     "name": "#%% md\n"
    }
   },
   "source": [
    "## Play with similar artifitial batch"
   ]
  },
  {
   "cell_type": "code",
   "execution_count": 8,
   "id": "5dbe8e7d",
   "metadata": {
    "pycharm": {
     "name": "#%%\n"
    }
   },
   "outputs": [],
   "source": [
    "# As you can see, it is concatenated list of two batch\n",
    "# Let's make try the similar array\n",
    "node_features = [\n",
    "    np.array([[x, y] for x in np.linspace(0, 1, 5) for y in np.linspace(0, 1, 5)]),\n",
    "    np.array([[x, y] for x in np.linspace(1.5, 2.5, 10) for y in np.linspace(1.5, 2.5, 10)])\n",
    "]\n",
    "nparticles_per_example = [len(node_features[0]), len(node_features[1])]\n",
    "node_features = np.concatenate(node_features)\n",
    "radius = 1.2\n",
    "\n",
    "# Batch_ids are the flattened ids (0 or 1) represents\n",
    "# where the node features are come from which batch.\n",
    "batch_ids = torch.cat(\n",
    "    [torch.LongTensor([i for _ in range(n)]) for i, n in enumerate(nparticles_per_example)])\n",
    "\n",
    "# radius_graph accepts r < radius not r <= radius\n",
    "# A torch tensor list of source and target nodes with shape (2, nedges)\n",
    "edge_index = radius_graph(\n",
    "    torch.tensor(node_features), r=radius, batch=batch_ids, loop=True)\n",
    "# edge_index = np.array(edge_index)\n",
    "\n",
    "# sender and receiver\n",
    "receiver = edge_index[0, :]\n",
    "sender = edge_index[1, :]"
   ]
  },
  {
   "cell_type": "code",
   "execution_count": 9,
   "id": "8d2cfd83",
   "metadata": {
    "pycharm": {
     "name": "#%%\n"
    }
   },
   "outputs": [
    {
     "name": "stderr",
     "output_type": "stream",
     "text": [
      "/tmp/ipykernel_242378/491915402.py:2: UserWarning: To copy construct from a tensor, it is recommended to use sourceTensor.clone().detach() or sourceTensor.clone().detach().requires_grad_(True), rather than torch.tensor(sourceTensor).\n",
      "  a = torch_geometric.data.Data(x=torch.tensor(node_features), edge_index=torch.tensor(edge_index))\n"
     ]
    },
    {
     "data": {
      "text/plain": "<Figure size 432x288 with 1 Axes>",
      "image/png": "[encoded data removed]"
     },
     "metadata": {},
     "output_type": "display_data"
    }
   ],
   "source": [
    "# Show graph connectivity plot\n",
    "a = torch_geometric.data.Data(x=torch.tensor(node_features), edge_index=torch.tensor(edge_index))\n",
    "g = torch_geometric.utils.to_networkx(a, to_undirected=False, remove_self_loops=False)\n",
    "nx.draw(g, with_labels=True)\n",
    "plt.show()"
   ]
  },
  {
   "cell_type": "markdown",
   "id": "02c0de17",
   "metadata": {
    "pycharm": {
     "name": "#%% md\n"
    }
   },
   "source": [
    "## Find edge index where sender==receiver"
   ]
  },
  {
   "cell_type": "markdown",
   "source": [
    "#### Loop algorithm to find sender==receiver"
   ],
   "metadata": {
    "collapsed": false,
    "pycharm": {
     "name": "#%% md\n"
    }
   }
  },
  {
   "cell_type": "code",
   "execution_count": 10,
   "outputs": [
    {
     "name": "stdout",
     "output_type": "stream",
     "text": [
      "tensor([[  0,   1,  11,  ...,  98,  99, 115],\n",
      "        [  0,   0,   0,  ..., 124, 124, 124]])\n",
      "3804\n",
      "[((0, 0), tensor([0, 0])), ((1, 22), tensor([1, 0])), ((2, 278), tensor([11,  0])), ((3, 253), tensor([10,  0])), ((4, 141), tensor([6, 0])), ((5, 117), tensor([5, 0])), ((6, 52), tensor([2, 0])), ((7, 172), tensor([7, 0])), ((8, 197), tensor([8, 0])), ((9, 222), tensor([9, 0])), ((10, 77), tensor([3, 0])), ((11, 101), tensor([4, 0])), ((12, 523), tensor([21,  0])), ((13, 501), tensor([20,  0])), ((14, 402), tensor([16,  0])), ((15, 378), tensor([15,  0])), ((16, 553), tensor([22,  0])), ((17, 433), tensor([17,  0])), ((18, 309), tensor([12,  0])), ((19, 334), tensor([13,  0])), ((20, 458), tensor([18,  0])), ((21, 359), tensor([14,  0])), ((23, 23), tensor([1, 1])), ((24, 279), tensor([11,  1])), ((25, 254), tensor([10,  1])), ((26, 142), tensor([6, 1])), ((27, 118), tensor([5, 1])), ((28, 53), tensor([2, 1])), ((29, 173), tensor([7, 1])), ((30, 198), tensor([8, 1])), ((31, 223), tensor([9, 1])), ((32, 78), tensor([3, 1])), ((33, 102), tensor([4, 1])), ((34, 524), tensor([21,  1])), ((35, 502), tensor([20,  1])), ((36, 403), tensor([16,  1])), ((37, 379), tensor([15,  1])), ((38, 554), tensor([22,  1])), ((39, 434), tensor([17,  1])), ((40, 310), tensor([12,  1])), ((41, 483), tensor([19,  1])), ((42, 335), tensor([13,  1])), ((43, 459), tensor([18,  1])), ((44, 360), tensor([14,  1])), ((45, 578), tensor([23,  1])), ((46, 46), tensor([2, 2])), ((47, 166), tensor([7, 2])), ((48, 191), tensor([8, 2])), ((49, 216), tensor([9, 2])), ((50, 71), tensor([3, 2])), ((51, 95), tensor([4, 2])), ((54, 284), tensor([11,  2])), ((55, 259), tensor([10,  2])), ((56, 147), tensor([6, 2])), ((57, 123), tensor([5, 2])), ((58, 303), tensor([12,  2])), ((59, 477), tensor([19,  2])), ((60, 328), tensor([13,  2])), ((61, 452), tensor([18,  2])), ((62, 353), tensor([14,  2])), ((63, 572), tensor([23,  2])), ((64, 596), tensor([24,  2])), ((65, 529), tensor([21,  2])), ((66, 507), tensor([20,  2])), ((67, 408), tensor([16,  2])), ((68, 384), tensor([15,  2])), ((69, 547), tensor([22,  2])), ((70, 427), tensor([17,  2])), ((72, 170), tensor([7, 3])), ((73, 195), tensor([8, 3])), ((74, 220), tensor([9, 3])), ((75, 75), tensor([3, 3])), ((76, 99), tensor([4, 3])), ((79, 288), tensor([11,  3])), ((80, 263), tensor([10,  3])), ((81, 151), tensor([6, 3])), ((82, 127), tensor([5, 3])), ((83, 307), tensor([12,  3])), ((84, 481), tensor([19,  3])), ((85, 332), tensor([13,  3])), ((86, 456), tensor([18,  3])), ((87, 357), tensor([14,  3])), ((88, 576), tensor([23,  3])), ((89, 600), tensor([24,  3])), ((90, 533), tensor([21,  3])), ((91, 412), tensor([16,  3])), ((92, 388), tensor([15,  3])), ((93, 551), tensor([22,  3])), ((94, 431), tensor([17,  3])), ((96, 171), tensor([7, 4])), ((97, 196), tensor([8, 4])), ((98, 221), tensor([9, 4])), ((100, 100), tensor([4, 4])), ((103, 289), tensor([11,  4])), ((104, 264), tensor([10,  4])), ((105, 152), tensor([6, 4])), ((106, 128), tensor([5, 4])), ((107, 308), tensor([12,  4])), ((108, 482), tensor([19,  4])), ((109, 333), tensor([13,  4])), ((110, 457), tensor([18,  4])), ((111, 358), tensor([14,  4])), ((112, 577), tensor([23,  4])), ((113, 601), tensor([24,  4])), ((114, 413), tensor([16,  4])), ((115, 552), tensor([22,  4])), ((116, 432), tensor([17,  4])), ((119, 283), tensor([11,  5])), ((120, 258), tensor([10,  5])), ((121, 146), tensor([6, 5])), ((122, 122), tensor([5, 5])), ((124, 177), tensor([7, 5])), ((125, 202), tensor([8, 5])), ((126, 227), tensor([9, 5])), ((129, 528), tensor([21,  5])), ((130, 506), tensor([20,  5])), ((131, 407), tensor([16,  5])), ((132, 383), tensor([15,  5])), ((133, 558), tensor([22,  5])), ((134, 438), tensor([17,  5])), ((135, 314), tensor([12,  5])), ((136, 487), tensor([19,  5])), ((137, 339), tensor([13,  5])), ((138, 463), tensor([18,  5])), ((139, 364), tensor([14,  5])), ((140, 582), tensor([23,  5])), ((143, 282), tensor([11,  6])), ((144, 257), tensor([10,  6])), ((145, 145), tensor([6, 6])), ((148, 176), tensor([7, 6])), ((149, 201), tensor([8, 6])), ((150, 226), tensor([9, 6])), ((153, 527), tensor([21,  6])), ((154, 505), tensor([20,  6])), ((155, 406), tensor([16,  6])), ((156, 382), tensor([15,  6])), ((157, 557), tensor([22,  6])), ((158, 437), tensor([17,  6])), ((159, 313), tensor([12,  6])), ((160, 486), tensor([19,  6])), ((161, 338), tensor([13,  6])), ((162, 462), tensor([18,  6])), ((163, 363), tensor([14,  6])), ((164, 581), tensor([23,  6])), ((165, 604), tensor([24,  6])), ((167, 167), tensor([7, 7])), ((168, 192), tensor([8, 7])), ((169, 217), tensor([9, 7])), ((174, 285), tensor([11,  7])), ((175, 260), tensor([10,  7])), ((178, 304), tensor([12,  7])), ((179, 478), tensor([19,  7])), ((180, 329), tensor([13,  7])), ((181, 453), tensor([18,  7])), ((182, 354), tensor([14,  7])), ((183, 573), tensor([23,  7])), ((184, 597), tensor([24,  7])), ((185, 530), tensor([21,  7])), ((186, 508), tensor([20,  7])), ((187, 409), tensor([16,  7])), ((188, 385), tensor([15,  7])), ((189, 548), tensor([22,  7])), ((190, 428), tensor([17,  7])), ((193, 193), tensor([8, 8])), ((194, 218), tensor([9, 8])), ((199, 286), tensor([11,  8])), ((200, 261), tensor([10,  8])), ((203, 305), tensor([12,  8])), ((204, 479), tensor([19,  8])), ((205, 330), tensor([13,  8])), ((206, 454), tensor([18,  8])), ((207, 355), tensor([14,  8])), ((208, 574), tensor([23,  8])), ((209, 598), tensor([24,  8])), ((210, 531), tensor([21,  8])), ((211, 509), tensor([20,  8])), ((212, 410), tensor([16,  8])), ((213, 386), tensor([15,  8])), ((214, 549), tensor([22,  8])), ((215, 429), tensor([17,  8])), ((219, 219), tensor([9, 9])), ((224, 287), tensor([11,  9])), ((225, 262), tensor([10,  9])), ((228, 306), tensor([12,  9])), ((229, 480), tensor([19,  9])), ((230, 331), tensor([13,  9])), ((231, 455), tensor([18,  9])), ((232, 356), tensor([14,  9])), ((233, 575), tensor([23,  9])), ((234, 599), tensor([24,  9])), ((235, 532), tensor([21,  9])), ((236, 411), tensor([16,  9])), ((237, 387), tensor([15,  9])), ((238, 550), tensor([22,  9])), ((239, 430), tensor([17,  9])), ((240, 526), tensor([21, 10])), ((241, 504), tensor([20, 10])), ((242, 405), tensor([16, 10])), ((243, 381), tensor([15, 10])), ((244, 556), tensor([22, 10])), ((245, 436), tensor([17, 10])), ((246, 312), tensor([12, 10])), ((247, 485), tensor([19, 10])), ((248, 337), tensor([13, 10])), ((249, 461), tensor([18, 10])), ((250, 362), tensor([14, 10])), ((251, 580), tensor([23, 10])), ((252, 603), tensor([24, 10])), ((255, 281), tensor([11, 10])), ((256, 256), tensor([10, 10])), ((265, 525), tensor([21, 11])), ((266, 503), tensor([20, 11])), ((267, 404), tensor([16, 11])), ((268, 380), tensor([15, 11])), ((269, 555), tensor([22, 11])), ((270, 435), tensor([17, 11])), ((271, 311), tensor([12, 11])), ((272, 484), tensor([19, 11])), ((273, 336), tensor([13, 11])), ((274, 460), tensor([18, 11])), ((275, 361), tensor([14, 11])), ((276, 579), tensor([23, 11])), ((277, 602), tensor([24, 11])), ((280, 280), tensor([11, 11])), ((290, 290), tensor([12, 12])), ((291, 464), tensor([19, 12])), ((292, 315), tensor([13, 12])), ((293, 439), tensor([18, 12])), ((294, 340), tensor([14, 12])), ((295, 559), tensor([23, 12])), ((296, 583), tensor([24, 12])), ((297, 516), tensor([21, 12])), ((298, 494), tensor([20, 12])), ((299, 395), tensor([16, 12])), ((300, 371), tensor([15, 12])), ((301, 534), tensor([22, 12])), ((302, 414), tensor([17, 12])), ((316, 466), tensor([19, 13])), ((317, 317), tensor([13, 13])), ((318, 441), tensor([18, 13])), ((319, 342), tensor([14, 13])), ((320, 561), tensor([23, 13])), ((321, 585), tensor([24, 13])), ((322, 518), tensor([21, 13])), ((323, 496), tensor([20, 13])), ((324, 397), tensor([16, 13])), ((325, 373), tensor([15, 13])), ((326, 536), tensor([22, 13])), ((327, 416), tensor([17, 13])), ((341, 468), tensor([19, 14])), ((343, 443), tensor([18, 14])), ((344, 344), tensor([14, 14])), ((345, 563), tensor([23, 14])), ((346, 587), tensor([24, 14])), ((347, 520), tensor([21, 14])), ((348, 498), tensor([20, 14])), ((349, 399), tensor([16, 14])), ((350, 375), tensor([15, 14])), ((351, 538), tensor([22, 14])), ((352, 418), tensor([17, 14])), ((365, 513), tensor([21, 15])), ((366, 491), tensor([20, 15])), ((367, 392), tensor([16, 15])), ((368, 368), tensor([15, 15])), ((369, 544), tensor([22, 15])), ((370, 424), tensor([17, 15])), ((372, 474), tensor([19, 15])), ((374, 449), tensor([18, 15])), ((376, 569), tensor([23, 15])), ((377, 593), tensor([24, 15])), ((389, 512), tensor([21, 16])), ((390, 490), tensor([20, 16])), ((391, 391), tensor([16, 16])), ((393, 543), tensor([22, 16])), ((394, 423), tensor([17, 16])), ((396, 473), tensor([19, 16])), ((398, 448), tensor([18, 16])), ((400, 568), tensor([23, 16])), ((401, 592), tensor([24, 16])), ((415, 476), tensor([19, 17])), ((417, 451), tensor([18, 17])), ((419, 571), tensor([23, 17])), ((420, 595), tensor([24, 17])), ((421, 515), tensor([21, 17])), ((422, 493), tensor([20, 17])), ((425, 546), tensor([22, 17])), ((426, 426), tensor([17, 17])), ((440, 467), tensor([19, 18])), ((442, 442), tensor([18, 18])), ((444, 562), tensor([23, 18])), ((445, 586), tensor([24, 18])), ((446, 519), tensor([21, 18])), ((447, 497), tensor([20, 18])), ((450, 537), tensor([22, 18])), ((465, 465), tensor([19, 19])), ((469, 560), tensor([23, 19])), ((470, 584), tensor([24, 19])), ((471, 517), tensor([21, 19])), ((472, 495), tensor([20, 19])), ((475, 535), tensor([22, 19])), ((488, 511), tensor([21, 20])), ((489, 489), tensor([20, 20])), ((492, 542), tensor([22, 20])), ((499, 567), tensor([23, 20])), ((500, 591), tensor([24, 20])), ((510, 510), tensor([21, 21])), ((514, 541), tensor([22, 21])), ((521, 566), tensor([23, 21])), ((522, 590), tensor([24, 21])), ((539, 570), tensor([23, 22])), ((540, 594), tensor([24, 22])), ((545, 545), tensor([22, 22])), ((564, 564), tensor([23, 23])), ((565, 588), tensor([24, 23])), ((589, 589), tensor([24, 24])), ((605, 605), tensor([25, 25])), ((606, 637), tensor([26, 25])), ((607, 669), tensor([27, 25])), ((608, 989), tensor([37, 25])), ((609, 957), tensor([36, 25])), ((610, 925), tensor([35, 25])), ((611, 1245), tensor([45, 25])), ((612, 1309), tensor([47, 25])), ((613, 1277), tensor([46, 25])), ((614, 1347), tensor([48, 25])), ((615, 1379), tensor([49, 25])), ((616, 739), tensor([29, 25])), ((617, 707), tensor([28, 25])), ((618, 1027), tensor([38, 25])), ((619, 1059), tensor([39, 25])), ((620, 1709), tensor([59, 25])), ((621, 1677), tensor([58, 25])), ((622, 1639), tensor([57, 25])), ((623, 1607), tensor([56, 25])), ((624, 1575), tensor([55, 25])), ((625, 1895), tensor([65, 25])), ((626, 1927), tensor([66, 25])), ((627, 1959), tensor([67, 25])), ((628, 1997), tensor([68, 25])), ((629, 2029), tensor([69, 25])), ((630, 1436), tensor([50, 25])), ((631, 1468), tensor([51, 25])), ((634, 796), tensor([30, 25])), ((635, 828), tensor([31, 25])), ((638, 638), tensor([26, 26])), ((639, 670), tensor([27, 26])), ((640, 990), tensor([37, 26])), ((641, 958), tensor([36, 26])), ((642, 926), tensor([35, 26])), ((643, 1246), tensor([45, 26])), ((644, 1310), tensor([47, 26])), ((645, 1278), tensor([46, 26])), ((646, 1348), tensor([48, 26])), ((647, 1380), tensor([49, 26])), ((648, 740), tensor([29, 26])), ((649, 708), tensor([28, 26])), ((650, 1028), tensor([38, 26])), ((651, 1060), tensor([39, 26])), ((652, 1710), tensor([59, 26])), ((653, 1678), tensor([58, 26])), ((654, 1640), tensor([57, 26])), ((655, 1608), tensor([56, 26])), ((656, 1576), tensor([55, 26])), ((657, 1896), tensor([65, 26])), ((658, 1928), tensor([66, 26])), ((659, 1960), tensor([67, 26])), ((660, 1998), tensor([68, 26])), ((661, 2030), tensor([69, 26])), ((671, 671), tensor([27, 27])), ((672, 991), tensor([37, 27])), ((673, 959), tensor([36, 27])), ((674, 927), tensor([35, 27])), ((675, 1247), tensor([45, 27])), ((676, 1311), tensor([47, 27])), ((677, 1279), tensor([46, 27])), ((678, 1349), tensor([48, 27])), ((679, 1381), tensor([49, 27])), ((680, 741), tensor([29, 27])), ((681, 709), tensor([28, 27])), ((682, 1029), tensor([38, 27])), ((683, 1061), tensor([39, 27])), ((684, 1711), tensor([59, 27])), ((685, 1679), tensor([58, 27])), ((686, 1641), tensor([57, 27])), ((687, 1609), tensor([56, 27])), ((688, 1577), tensor([55, 27])), ((689, 1897), tensor([65, 27])), ((690, 1929), tensor([66, 27])), ((691, 1961), tensor([67, 27])), ((692, 1999), tensor([68, 27])), ((693, 2031), tensor([69, 27])), ((701, 1344), tensor([48, 28])), ((702, 1376), tensor([49, 28])), ((703, 736), tensor([29, 28])), ((704, 704), tensor([28, 28])), ((705, 1024), tensor([38, 28])), ((706, 1056), tensor([39, 28])), ((710, 1001), tensor([37, 28])), ((711, 969), tensor([36, 28])), ((712, 937), tensor([35, 28])), ((713, 1257), tensor([45, 28])), ((714, 1321), tensor([47, 28])), ((715, 1289), tensor([46, 28])), ((716, 1706), tensor([59, 28])), ((717, 1674), tensor([58, 28])), ((718, 1651), tensor([57, 28])), ((719, 1619), tensor([56, 28])), ((720, 1587), tensor([55, 28])), ((721, 1907), tensor([65, 28])), ((722, 1939), tensor([66, 28])), ((723, 1971), tensor([67, 28])), ((724, 1994), tensor([68, 28])), ((725, 2026), tensor([69, 28])), ((726, 1433), tensor([50, 28])), ((727, 1465), tensor([51, 28])), ((730, 793), tensor([30, 28])), ((731, 825), tensor([31, 28])), ((733, 1343), tensor([48, 29])), ((734, 1375), tensor([49, 29])), ((735, 735), tensor([29, 29])), ((737, 1023), tensor([38, 29])), ((738, 1055), tensor([39, 29])), ((742, 1000), tensor([37, 29])), ((743, 968), tensor([36, 29])), ((744, 936), tensor([35, 29])), ((745, 1256), tensor([45, 29])), ((746, 1320), tensor([47, 29])), ((747, 1288), tensor([46, 29])), ((748, 1705), tensor([59, 29])), ((749, 1673), tensor([58, 29])), ((750, 1650), tensor([57, 29])), ((751, 1618), tensor([56, 29])), ((752, 1586), tensor([55, 29])), ((753, 1906), tensor([65, 29])), ((754, 1938), tensor([66, 29])), ((755, 1970), tensor([67, 29])), ((756, 1993), tensor([68, 29])), ((757, 2025), tensor([69, 29])), ((758, 1432), tensor([50, 29])), ((759, 1464), tensor([51, 29])), ((762, 792), tensor([30, 29])), ((763, 824), tensor([31, 29])), ((765, 1409), tensor([50, 30])), ((766, 1441), tensor([51, 30])), ((767, 2081), tensor([71, 30])), ((768, 2049), tensor([70, 30])), ((769, 769), tensor([30, 30])), ((770, 801), tensor([31, 30])), ((771, 1761), tensor([61, 30])), ((772, 1729), tensor([60, 30])), ((773, 1121), tensor([41, 30])), ((774, 1089), tensor([40, 30])), ((775, 1168), tensor([42, 30])), ((776, 1200), tensor([43, 30])), ((777, 1488), tensor([52, 30])), ((778, 1520), tensor([53, 30])), ((779, 1552), tensor([54, 30])), ((780, 912), tensor([34, 30])), ((781, 880), tensor([33, 30])), ((782, 848), tensor([32, 30])), ((783, 1232), tensor([44, 30])), ((784, 1872), tensor([64, 30])), ((785, 1840), tensor([63, 30])), ((786, 1808), tensor([62, 30])), ((787, 2128), tensor([72, 30])), ((788, 2160), tensor([73, 30])), ((789, 2192), tensor([74, 30])), ((790, 1370), tensor([48, 30])), ((791, 1402), tensor([49, 30])), ((794, 1050), tensor([38, 30])), ((795, 1082), tensor([39, 30])), ((797, 1410), tensor([50, 31])), ((798, 1442), tensor([51, 31])), ((799, 2082), tensor([71, 31])), ((800, 2050), tensor([70, 31])), ((802, 802), tensor([31, 31])), ((803, 1762), tensor([61, 31])), ((804, 1730), tensor([60, 31])), ((805, 1122), tensor([41, 31])), ((806, 1090), tensor([40, 31])), ((807, 1169), tensor([42, 31])), ((808, 1201), tensor([43, 31])), ((809, 1489), tensor([52, 31])), ((810, 1521), tensor([53, 31])), ((811, 1553), tensor([54, 31])), ((812, 913), tensor([34, 31])), ((813, 881), tensor([33, 31])), ((814, 849), tensor([32, 31])), ((815, 1233), tensor([44, 31])), ((816, 1873), tensor([64, 31])), ((817, 1841), tensor([63, 31])), ((818, 1809), tensor([62, 31])), ((819, 2129), tensor([72, 31])), ((820, 2161), tensor([73, 31])), ((821, 2193), tensor([74, 31])), ((822, 1371), tensor([48, 31])), ((823, 1403), tensor([49, 31])), ((826, 1051), tensor([38, 31])), ((827, 1083), tensor([39, 31])), ((829, 1156), tensor([42, 32])), ((830, 1188), tensor([43, 32])), ((831, 1476), tensor([52, 32])), ((832, 1508), tensor([53, 32])), ((833, 1540), tensor([54, 32])), ((834, 900), tensor([34, 32])), ((835, 868), tensor([33, 32])), ((836, 836), tensor([32, 32])), ((837, 1220), tensor([44, 32])), ((838, 1866), tensor([64, 32])), ((839, 1834), tensor([63, 32])), ((840, 1802), tensor([62, 32])), ((841, 2122), tensor([72, 32])), ((842, 2154), tensor([73, 32])), ((843, 2186), tensor([74, 32])), ((844, 1422), tensor([50, 32])), ((845, 1454), tensor([51, 32])), ((846, 2100), tensor([71, 32])), ((847, 2068), tensor([70, 32])), ((850, 1780), tensor([61, 32])), ((851, 1748), tensor([60, 32])), ((852, 1134), tensor([41, 32])), ((853, 1102), tensor([40, 32])), ((861, 1155), tensor([42, 33])), ((862, 1187), tensor([43, 33])), ((863, 1475), tensor([52, 33])), ((864, 1507), tensor([53, 33])), ((865, 1539), tensor([54, 33])), ((866, 899), tensor([34, 33])), ((867, 867), tensor([33, 33])), ((869, 1219), tensor([44, 33])), ((870, 1865), tensor([64, 33])), ((871, 1833), tensor([63, 33])), ((872, 1801), tensor([62, 33])), ((873, 2121), tensor([72, 33])), ((874, 2153), tensor([73, 33])), ((875, 2185), tensor([74, 33])), ((876, 1421), tensor([50, 33])), ((877, 1453), tensor([51, 33])), ((878, 2099), tensor([71, 33])), ((879, 2067), tensor([70, 33])), ((882, 1779), tensor([61, 33])), ((883, 1747), tensor([60, 33])), ((884, 1133), tensor([41, 33])), ((885, 1101), tensor([40, 33])), ((893, 1154), tensor([42, 34])), ((894, 1186), tensor([43, 34])), ((895, 1474), tensor([52, 34])), ((896, 1506), tensor([53, 34])), ((897, 1538), tensor([54, 34])), ((898, 898), tensor([34, 34])), ((901, 1218), tensor([44, 34])), ((902, 1864), tensor([64, 34])), ((903, 1832), tensor([63, 34])), ((904, 1800), tensor([62, 34])), ((905, 2120), tensor([72, 34])), ((906, 2152), tensor([73, 34])), ((907, 2184), tensor([74, 34])), ((908, 1420), tensor([50, 34])), ((909, 1452), tensor([51, 34])), ((910, 2098), tensor([71, 34])), ((911, 2066), tensor([70, 34])), ((914, 1778), tensor([61, 34])), ((915, 1746), tensor([60, 34])), ((916, 1132), tensor([41, 34])), ((917, 1100), tensor([40, 34])), ((928, 994), tensor([37, 35])), ((929, 962), tensor([36, 35])), ((930, 930), tensor([35, 35])), ((931, 1250), tensor([45, 35])), ((932, 1314), tensor([47, 35])), ((933, 1282), tensor([46, 35])), ((934, 1352), tensor([48, 35])), ((935, 1384), tensor([49, 35])), ((938, 1032), tensor([38, 35])), ((939, 1064), tensor([39, 35])), ((940, 1714), tensor([59, 35])), ((941, 1682), tensor([58, 35])), ((942, 1644), tensor([57, 35])), ((943, 1612), tensor([56, 35])), ((944, 1580), tensor([55, 35])), ((945, 1900), tensor([65, 35])), ((946, 1932), tensor([66, 35])), ((947, 1964), tensor([67, 35])), ((948, 2002), tensor([68, 35])), ((949, 2034), tensor([69, 35])), ((960, 993), tensor([37, 36])), ((961, 961), tensor([36, 36])), ((963, 1249), tensor([45, 36])), ((964, 1313), tensor([47, 36])), ((965, 1281), tensor([46, 36])), ((966, 1351), tensor([48, 36])), ((967, 1383), tensor([49, 36])), ((970, 1031), tensor([38, 36])), ((971, 1063), tensor([39, 36])), ((972, 1713), tensor([59, 36])), ((973, 1681), tensor([58, 36])), ((974, 1643), tensor([57, 36])), ((975, 1611), tensor([56, 36])), ((976, 1579), tensor([55, 36])), ((977, 1899), tensor([65, 36])), ((978, 1931), tensor([66, 36])), ((979, 1963), tensor([67, 36])), ((980, 2001), tensor([68, 36])), ((981, 2033), tensor([69, 36])), ((992, 992), tensor([37, 37])), ((995, 1248), tensor([45, 37])), ((996, 1312), tensor([47, 37])), ((997, 1280), tensor([46, 37])), ((998, 1350), tensor([48, 37])), ((999, 1382), tensor([49, 37])), ((1002, 1030), tensor([38, 37])), ((1003, 1062), tensor([39, 37])), ((1004, 1712), tensor([59, 37])), ((1005, 1680), tensor([58, 37])), ((1006, 1642), tensor([57, 37])), ((1007, 1610), tensor([56, 37])), ((1008, 1578), tensor([55, 37])), ((1009, 1898), tensor([65, 37])), ((1010, 1930), tensor([66, 37])), ((1011, 1962), tensor([67, 37])), ((1012, 2000), tensor([68, 37])), ((1013, 2032), tensor([69, 37])), ((1021, 1345), tensor([48, 38])), ((1022, 1377), tensor([49, 38])), ((1025, 1025), tensor([38, 38])), ((1026, 1057), tensor([39, 38])), ((1033, 1258), tensor([45, 38])), ((1034, 1322), tensor([47, 38])), ((1035, 1290), tensor([46, 38])), ((1036, 1707), tensor([59, 38])), ((1037, 1675), tensor([58, 38])), ((1038, 1652), tensor([57, 38])), ((1039, 1620), tensor([56, 38])), ((1040, 1588), tensor([55, 38])), ((1041, 1908), tensor([65, 38])), ((1042, 1940), tensor([66, 38])), ((1043, 1972), tensor([67, 38])), ((1044, 1995), tensor([68, 38])), ((1045, 2027), tensor([69, 38])), ((1046, 1434), tensor([50, 38])), ((1047, 1466), tensor([51, 38])), ((1053, 1346), tensor([48, 39])), ((1054, 1378), tensor([49, 39])), ((1058, 1058), tensor([39, 39])), ((1065, 1259), tensor([45, 39])), ((1066, 1323), tensor([47, 39])), ((1067, 1291), tensor([46, 39])), ((1068, 1708), tensor([59, 39])), ((1069, 1676), tensor([58, 39])), ((1070, 1653), tensor([57, 39])), ((1071, 1621), tensor([56, 39])), ((1072, 1589), tensor([55, 39])), ((1073, 1909), tensor([65, 39])), ((1074, 1941), tensor([66, 39])), ((1075, 1973), tensor([67, 39])), ((1076, 1996), tensor([68, 39])), ((1077, 2028), tensor([69, 39])), ((1078, 1435), tensor([50, 39])), ((1079, 1467), tensor([51, 39])), ((1085, 1414), tensor([50, 40])), ((1086, 1446), tensor([51, 40])), ((1087, 2086), tensor([71, 40])), ((1088, 2054), tensor([70, 40])), ((1091, 1766), tensor([61, 40])), ((1092, 1734), tensor([60, 40])), ((1093, 1126), tensor([41, 40])), ((1094, 1094), tensor([40, 40])), ((1095, 1173), tensor([42, 40])), ((1096, 1205), tensor([43, 40])), ((1097, 1493), tensor([52, 40])), ((1098, 1525), tensor([53, 40])), ((1099, 1557), tensor([54, 40])), ((1103, 1237), tensor([44, 40])), ((1104, 1877), tensor([64, 40])), ((1105, 1845), tensor([63, 40])), ((1106, 1813), tensor([62, 40])), ((1107, 2133), tensor([72, 40])), ((1108, 2165), tensor([73, 40])), ((1109, 2197), tensor([74, 40])), ((1117, 1413), tensor([50, 41])), ((1118, 1445), tensor([51, 41])), ((1119, 2085), tensor([71, 41])), ((1120, 2053), tensor([70, 41])), ((1123, 1765), tensor([61, 41])), ((1124, 1733), tensor([60, 41])), ((1125, 1125), tensor([41, 41])), ((1127, 1172), tensor([42, 41])), ((1128, 1204), tensor([43, 41])), ((1129, 1492), tensor([52, 41])), ((1130, 1524), tensor([53, 41])), ((1131, 1556), tensor([54, 41])), ((1135, 1236), tensor([44, 41])), ((1136, 1876), tensor([64, 41])), ((1137, 1844), tensor([63, 41])), ((1138, 1812), tensor([62, 41])), ((1139, 2132), tensor([72, 41])), ((1140, 2164), tensor([73, 41])), ((1141, 2196), tensor([74, 41])), ((1149, 1149), tensor([42, 42])), ((1150, 1181), tensor([43, 42])), ((1151, 1469), tensor([52, 42])), ((1152, 1501), tensor([53, 42])), ((1153, 1533), tensor([54, 42])), ((1157, 1213), tensor([44, 42])), ((1158, 1859), tensor([64, 42])), ((1159, 1827), tensor([63, 42])), ((1160, 1795), tensor([62, 42])), ((1161, 2115), tensor([72, 42])), ((1162, 2147), tensor([73, 42])), ((1163, 2179), tensor([74, 42])), ((1164, 1415), tensor([50, 42])), ((1165, 1447), tensor([51, 42])), ((1166, 2093), tensor([71, 42])), ((1167, 2061), tensor([70, 42])), ((1170, 1773), tensor([61, 42])), ((1171, 1741), tensor([60, 42])), ((1182, 1182), tensor([43, 43])), ((1183, 1470), tensor([52, 43])), ((1184, 1502), tensor([53, 43])), ((1185, 1534), tensor([54, 43])), ((1189, 1214), tensor([44, 43])), ((1190, 1860), tensor([64, 43])), ((1191, 1828), tensor([63, 43])), ((1192, 1796), tensor([62, 43])), ((1193, 2116), tensor([72, 43])), ((1194, 2148), tensor([73, 43])), ((1195, 2180), tensor([74, 43])), ((1196, 1416), tensor([50, 43])), ((1197, 1448), tensor([51, 43])), ((1198, 2094), tensor([71, 43])), ((1199, 2062), tensor([70, 43])), ((1202, 1774), tensor([61, 43])), ((1203, 1742), tensor([60, 43])), ((1215, 1477), tensor([52, 44])), ((1216, 1509), tensor([53, 44])), ((1217, 1541), tensor([54, 44])), ((1221, 1221), tensor([44, 44])), ((1222, 1867), tensor([64, 44])), ((1223, 1835), tensor([63, 44])), ((1224, 1803), tensor([62, 44])), ((1225, 2123), tensor([72, 44])), ((1226, 2155), tensor([73, 44])), ((1227, 2187), tensor([74, 44])), ((1228, 1423), tensor([50, 44])), ((1229, 1455), tensor([51, 44])), ((1230, 2101), tensor([71, 44])), ((1231, 2069), tensor([70, 44])), ((1234, 1781), tensor([61, 44])), ((1235, 1749), tensor([60, 44])), ((1251, 1251), tensor([45, 45])), ((1252, 1315), tensor([47, 45])), ((1253, 1283), tensor([46, 45])), ((1254, 1353), tensor([48, 45])), ((1255, 1385), tensor([49, 45])), ((1260, 1715), tensor([59, 45])), ((1261, 1683), tensor([58, 45])), ((1262, 1645), tensor([57, 45])), ((1263, 1613), tensor([56, 45])), ((1264, 1581), tensor([55, 45])), ((1265, 1901), tensor([65, 45])), ((1266, 1933), tensor([66, 45])), ((1267, 1965), tensor([67, 45])), ((1268, 2003), tensor([68, 45])), ((1269, 2035), tensor([69, 45])), ((1284, 1317), tensor([47, 46])), ((1285, 1285), tensor([46, 46])), ((1286, 1355), tensor([48, 46])), ((1287, 1387), tensor([49, 46])), ((1292, 1717), tensor([59, 46])), ((1293, 1685), tensor([58, 46])), ((1294, 1647), tensor([57, 46])), ((1295, 1615), tensor([56, 46])), ((1296, 1583), tensor([55, 46])), ((1297, 1903), tensor([65, 46])), ((1298, 1935), tensor([66, 46])), ((1299, 1967), tensor([67, 46])), ((1300, 2005), tensor([68, 46])), ((1301, 2037), tensor([69, 46])), ((1316, 1316), tensor([47, 47])), ((1318, 1354), tensor([48, 47])), ((1319, 1386), tensor([49, 47])), ((1324, 1716), tensor([59, 47])), ((1325, 1684), tensor([58, 47])), ((1326, 1646), tensor([57, 47])), ((1327, 1614), tensor([56, 47])), ((1328, 1582), tensor([55, 47])), ((1329, 1902), tensor([65, 47])), ((1330, 1934), tensor([66, 47])), ((1331, 1966), tensor([67, 47])), ((1332, 2004), tensor([68, 47])), ((1333, 2036), tensor([69, 47])), ((1341, 1341), tensor([48, 48])), ((1342, 1373), tensor([49, 48])), ((1356, 1703), tensor([59, 48])), ((1357, 1671), tensor([58, 48])), ((1358, 1648), tensor([57, 48])), ((1359, 1616), tensor([56, 48])), ((1360, 1584), tensor([55, 48])), ((1361, 1904), tensor([65, 48])), ((1362, 1936), tensor([66, 48])), ((1363, 1968), tensor([67, 48])), ((1364, 1991), tensor([68, 48])), ((1365, 2023), tensor([69, 48])), ((1366, 1430), tensor([50, 48])), ((1367, 1462), tensor([51, 48])), ((1374, 1374), tensor([49, 49])), ((1388, 1704), tensor([59, 49])), ((1389, 1672), tensor([58, 49])), ((1390, 1649), tensor([57, 49])), ((1391, 1617), tensor([56, 49])), ((1392, 1585), tensor([55, 49])), ((1393, 1905), tensor([65, 49])), ((1394, 1937), tensor([66, 49])), ((1395, 1969), tensor([67, 49])), ((1396, 1992), tensor([68, 49])), ((1397, 2024), tensor([69, 49])), ((1398, 1431), tensor([50, 49])), ((1399, 1463), tensor([51, 49])), ((1405, 1405), tensor([50, 50])), ((1406, 1437), tensor([51, 50])), ((1407, 2077), tensor([71, 50])), ((1408, 2045), tensor([70, 50])), ((1411, 1757), tensor([61, 50])), ((1412, 1725), tensor([60, 50])), ((1417, 1484), tensor([52, 50])), ((1418, 1516), tensor([53, 50])), ((1419, 1548), tensor([54, 50])), ((1424, 1868), tensor([64, 50])), ((1425, 1836), tensor([63, 50])), ((1426, 1804), tensor([62, 50])), ((1427, 2124), tensor([72, 50])), ((1428, 2156), tensor([73, 50])), ((1429, 2188), tensor([74, 50])), ((1438, 1438), tensor([51, 51])), ((1439, 2078), tensor([71, 51])), ((1440, 2046), tensor([70, 51])), ((1443, 1758), tensor([61, 51])), ((1444, 1726), tensor([60, 51])), ((1449, 1485), tensor([52, 51])), ((1450, 1517), tensor([53, 51])), ((1451, 1549), tensor([54, 51])), ((1456, 1869), tensor([64, 51])), ((1457, 1837), tensor([63, 51])), ((1458, 1805), tensor([62, 51])), ((1459, 2125), tensor([72, 51])), ((1460, 2157), tensor([73, 51])), ((1461, 2189), tensor([74, 51])), ((1471, 1471), tensor([52, 52])), ((1472, 1503), tensor([53, 52])), ((1473, 1535), tensor([54, 52])), ((1478, 1861), tensor([64, 52])), ((1479, 1829), tensor([63, 52])), ((1480, 1797), tensor([62, 52])), ((1481, 2117), tensor([72, 52])), ((1482, 2149), tensor([73, 52])), ((1483, 2181), tensor([74, 52])), ((1486, 2095), tensor([71, 52])), ((1487, 2063), tensor([70, 52])), ((1490, 1775), tensor([61, 52])), ((1491, 1743), tensor([60, 52])), ((1504, 1504), tensor([53, 53])), ((1505, 1536), tensor([54, 53])), ((1510, 1862), tensor([64, 53])), ((1511, 1830), tensor([63, 53])), ((1512, 1798), tensor([62, 53])), ((1513, 2118), tensor([72, 53])), ((1514, 2150), tensor([73, 53])), ((1515, 2182), tensor([74, 53])), ((1518, 2096), tensor([71, 53])), ((1519, 2064), tensor([70, 53])), ((1522, 1776), tensor([61, 53])), ((1523, 1744), tensor([60, 53])), ((1537, 1537), tensor([54, 54])), ((1542, 1863), tensor([64, 54])), ((1543, 1831), tensor([63, 54])), ((1544, 1799), tensor([62, 54])), ((1545, 2119), tensor([72, 54])), ((1546, 2151), tensor([73, 54])), ((1547, 2183), tensor([74, 54])), ((1550, 2097), tensor([71, 54])), ((1551, 2065), tensor([70, 54])), ((1554, 1777), tensor([61, 54])), ((1555, 1745), tensor([60, 54])), ((1565, 1697), tensor([59, 55])), ((1566, 1665), tensor([58, 55])), ((1567, 1633), tensor([57, 55])), ((1568, 1601), tensor([56, 55])), ((1569, 1569), tensor([55, 55])), ((1570, 1889), tensor([65, 55])), ((1571, 1921), tensor([66, 55])), ((1572, 1953), tensor([67, 55])), ((1573, 1985), tensor([68, 55])), ((1574, 2017), tensor([69, 55])), ((1592, 2106), tensor([71, 55])), ((1593, 2074), tensor([70, 55])), ((1596, 1786), tensor([61, 55])), ((1597, 1696), tensor([59, 56])), ((1598, 1664), tensor([58, 56])), ((1599, 1632), tensor([57, 56])), ((1600, 1600), tensor([56, 56])), ((1602, 1888), tensor([65, 56])), ((1603, 1920), tensor([66, 56])), ((1604, 1952), tensor([67, 56])), ((1605, 1984), tensor([68, 56])), ((1606, 2016), tensor([69, 56])), ((1624, 2105), tensor([71, 56])), ((1625, 2073), tensor([70, 56])), ((1628, 1785), tensor([61, 56])), ((1629, 1695), tensor([59, 57])), ((1630, 1663), tensor([58, 57])), ((1631, 1631), tensor([57, 57])), ((1634, 1887), tensor([65, 57])), ((1635, 1919), tensor([66, 57])), ((1636, 1951), tensor([67, 57])), ((1637, 1983), tensor([68, 57])), ((1638, 2015), tensor([69, 57])), ((1656, 2104), tensor([71, 57])), ((1657, 2072), tensor([70, 57])), ((1660, 1784), tensor([61, 57])), ((1661, 1694), tensor([59, 58])), ((1662, 1662), tensor([58, 58])), ((1666, 1886), tensor([65, 58])), ((1667, 1918), tensor([66, 58])), ((1668, 1950), tensor([67, 58])), ((1669, 1982), tensor([68, 58])), ((1670, 2014), tensor([69, 58])), ((1688, 2103), tensor([71, 58])), ((1689, 2071), tensor([70, 58])), ((1692, 1783), tensor([61, 58])), ((1693, 1693), tensor([59, 59])), ((1698, 1885), tensor([65, 59])), ((1699, 1917), tensor([66, 59])), ((1700, 1949), tensor([67, 59])), ((1701, 1981), tensor([68, 59])), ((1702, 2013), tensor([69, 59])), ((1720, 2102), tensor([71, 59])), ((1721, 2070), tensor([70, 59])), ((1724, 1782), tensor([61, 59])), ((1727, 2084), tensor([71, 60])), ((1728, 2052), tensor([70, 60])), ((1731, 1764), tensor([61, 60])), ((1732, 1732), tensor([60, 60])), ((1735, 1875), tensor([64, 60])), ((1736, 1843), tensor([63, 60])), ((1737, 1811), tensor([62, 60])), ((1738, 2131), tensor([72, 60])), ((1739, 2163), tensor([73, 60])), ((1740, 2195), tensor([74, 60])), ((1759, 2083), tensor([71, 61])), ((1760, 2051), tensor([70, 61])), ((1763, 1763), tensor([61, 61])), ((1767, 1874), tensor([64, 61])), ((1768, 1842), tensor([63, 61])), ((1769, 1810), tensor([62, 61])), ((1770, 2130), tensor([72, 61])), ((1771, 2162), tensor([73, 61])), ((1772, 2194), tensor([74, 61])), ((1787, 1916), tensor([65, 61])), ((1788, 1948), tensor([66, 61])), ((1789, 1855), tensor([64, 62])), ((1790, 1823), tensor([63, 62])), ((1791, 1791), tensor([62, 62])), ((1792, 2111), tensor([72, 62])), ((1793, 2143), tensor([73, 62])), ((1794, 2175), tensor([74, 62])), ((1806, 2089), tensor([71, 62])), ((1807, 2057), tensor([70, 62])), ((1821, 1854), tensor([64, 63])), ((1822, 1822), tensor([63, 63])), ((1824, 2110), tensor([72, 63])), ((1825, 2142), tensor([73, 63])), ((1826, 2174), tensor([74, 63])), ((1838, 2088), tensor([71, 63])), ((1839, 2056), tensor([70, 63])), ((1853, 1853), tensor([64, 64])), ((1856, 2109), tensor([72, 64])), ((1857, 2141), tensor([73, 64])), ((1858, 2173), tensor([74, 64])), ((1870, 2087), tensor([71, 64])), ((1871, 2055), tensor([70, 64])), ((1890, 1890), tensor([65, 65])), ((1891, 1922), tensor([66, 65])), ((1892, 1954), tensor([67, 65])), ((1893, 1986), tensor([68, 65])), ((1894, 2018), tensor([69, 65])), ((1912, 2107), tensor([71, 65])), ((1913, 2075), tensor([70, 65])), ((1923, 1923), tensor([66, 66])), ((1924, 1955), tensor([67, 66])), ((1925, 1987), tensor([68, 66])), ((1926, 2019), tensor([69, 66])), ((1944, 2108), tensor([71, 66])), ((1945, 2076), tensor([70, 66])), ((1956, 1956), tensor([67, 67])), ((1957, 1988), tensor([68, 67])), ((1958, 2020), tensor([69, 67])), ((1989, 1989), tensor([68, 68])), ((1990, 2021), tensor([69, 68])), ((2022, 2022), tensor([69, 69])), ((2047, 2080), tensor([71, 70])), ((2048, 2048), tensor([70, 70])), ((2058, 2127), tensor([72, 70])), ((2059, 2159), tensor([73, 70])), ((2060, 2191), tensor([74, 70])), ((2079, 2079), tensor([71, 71])), ((2090, 2126), tensor([72, 71])), ((2091, 2158), tensor([73, 71])), ((2092, 2190), tensor([74, 71])), ((2112, 2112), tensor([72, 72])), ((2113, 2144), tensor([73, 72])), ((2114, 2176), tensor([74, 72])), ((2145, 2145), tensor([73, 73])), ((2146, 2177), tensor([74, 73])), ((2178, 2178), tensor([74, 74])), ((2205, 2205), tensor([75, 75])), ((2206, 2237), tensor([76, 75])), ((2207, 2269), tensor([77, 75])), ((2208, 2301), tensor([78, 75])), ((2209, 2333), tensor([79, 75])), ((2210, 2653), tensor([89, 75])), ((2211, 2621), tensor([88, 75])), ((2212, 2589), tensor([87, 75])), ((2213, 2557), tensor([86, 75])), ((2214, 2525), tensor([85, 75])), ((2215, 3500), tensor([115,  75])), ((2216, 3532), tensor([116,  75])), ((2217, 3564), tensor([117,  75])), ((2218, 2924), tensor([97, 75])), ((2219, 2892), tensor([96, 75])), ((2220, 2860), tensor([95, 75])), ((2221, 3180), tensor([105,  75])), ((2222, 3244), tensor([107,  75])), ((2223, 3212), tensor([106,  75])), ((2224, 3276), tensor([108,  75])), ((2225, 3308), tensor([109,  75])), ((2226, 3628), tensor([119,  75])), ((2227, 3596), tensor([118,  75])), ((2228, 2956), tensor([98, 75])), ((2229, 2988), tensor([99, 75])), ((2230, 2390), tensor([80, 75])), ((2231, 2422), tensor([81, 75])), ((2232, 2454), tensor([82, 75])), ((2233, 2486), tensor([83, 75])), ((2234, 2518), tensor([84, 75])), ((2235, 2838), tensor([94, 75])), ((2236, 2806), tensor([93, 75])), ((2238, 2238), tensor([76, 76])), ((2239, 2270), tensor([77, 76])), ((2240, 2302), tensor([78, 76])), ((2241, 2334), tensor([79, 76])), ((2242, 2654), tensor([89, 76])), ((2243, 2622), tensor([88, 76])), ((2244, 2590), tensor([87, 76])), ((2245, 2558), tensor([86, 76])), ((2246, 2526), tensor([85, 76])), ((2247, 3501), tensor([115,  76])), ((2248, 3533), tensor([116,  76])), ((2249, 3565), tensor([117,  76])), ((2250, 2925), tensor([97, 76])), ((2251, 2893), tensor([96, 76])), ((2252, 2861), tensor([95, 76])), ((2253, 3181), tensor([105,  76])), ((2254, 3245), tensor([107,  76])), ((2255, 3213), tensor([106,  76])), ((2256, 3277), tensor([108,  76])), ((2257, 3309), tensor([109,  76])), ((2258, 3629), tensor([119,  76])), ((2259, 3597), tensor([118,  76])), ((2260, 2957), tensor([98, 76])), ((2261, 2989), tensor([99, 76])), ((2262, 2391), tensor([80, 76])), ((2263, 2423), tensor([81, 76])), ((2264, 2455), tensor([82, 76])), ((2265, 2487), tensor([83, 76])), ((2266, 2519), tensor([84, 76])), ((2267, 2839), tensor([94, 76])), ((2268, 2807), tensor([93, 76])), ((2271, 2271), tensor([77, 77])), ((2272, 2303), tensor([78, 77])), ((2273, 2335), tensor([79, 77])), ((2274, 2655), tensor([89, 77])), ((2275, 2623), tensor([88, 77])), ((2276, 2591), tensor([87, 77])), ((2277, 2559), tensor([86, 77])), ((2278, 2527), tensor([85, 77])), ((2279, 3502), tensor([115,  77])), ((2280, 3534), tensor([116,  77])), ((2281, 3566), tensor([117,  77])), ((2282, 2926), tensor([97, 77])), ((2283, 2894), tensor([96, 77])), ((2284, 2862), tensor([95, 77])), ((2285, 3182), tensor([105,  77])), ((2286, 3246), tensor([107,  77])), ((2287, 3214), tensor([106,  77])), ((2288, 3278), tensor([108,  77])), ((2289, 3310), tensor([109,  77])), ((2290, 3630), tensor([119,  77])), ((2291, 3598), tensor([118,  77])), ((2292, 2958), tensor([98, 77])), ((2293, 2990), tensor([99, 77])), ((2294, 2392), tensor([80, 77])), ((2295, 2424), tensor([81, 77])), ((2296, 2456), tensor([82, 77])), ((2297, 2488), tensor([83, 77])), ((2298, 2520), tensor([84, 77])), ((2299, 2840), tensor([94, 77])), ((2300, 2808), tensor([93, 77])), ((2304, 2304), tensor([78, 78])), ((2305, 2336), tensor([79, 78])), ((2306, 2656), tensor([89, 78])), ((2307, 2624), tensor([88, 78])), ((2308, 2592), tensor([87, 78])), ((2309, 2560), tensor([86, 78])), ((2310, 2528), tensor([85, 78])), ((2311, 3279), tensor([108,  78])), ((2312, 3311), tensor([109,  78])), ((2313, 3631), tensor([119,  78])), ((2314, 3599), tensor([118,  78])), ((2315, 2959), tensor([98, 78])), ((2316, 2991), tensor([99, 78])), ((2317, 3503), tensor([115,  78])), ((2318, 3535), tensor([116,  78])), ((2319, 3567), tensor([117,  78])), ((2320, 2927), tensor([97, 78])), ((2321, 2895), tensor([96, 78])), ((2322, 2863), tensor([95, 78])), ((2323, 3183), tensor([105,  78])), ((2324, 3247), tensor([107,  78])), ((2325, 3215), tensor([106,  78])), ((2326, 2393), tensor([80, 78])), ((2327, 2425), tensor([81, 78])), ((2328, 2457), tensor([82, 78])), ((2329, 2489), tensor([83, 78])), ((2330, 2521), tensor([84, 78])), ((2331, 2841), tensor([94, 78])), ((2332, 2809), tensor([93, 78])), ((2337, 2337), tensor([79, 79])), ((2338, 2657), tensor([89, 79])), ((2339, 2625), tensor([88, 79])), ((2340, 2593), tensor([87, 79])), ((2341, 2561), tensor([86, 79])), ((2342, 2529), tensor([85, 79])), ((2343, 3280), tensor([108,  79])), ((2344, 3312), tensor([109,  79])), ((2345, 3632), tensor([119,  79])), ((2346, 3600), tensor([118,  79])), ((2347, 2960), tensor([98, 79])), ((2348, 2992), tensor([99, 79])), ((2349, 3504), tensor([115,  79])), ((2350, 3536), tensor([116,  79])), ((2351, 3568), tensor([117,  79])), ((2352, 2928), tensor([97, 79])), ((2353, 2896), tensor([96, 79])), ((2354, 2864), tensor([95, 79])), ((2355, 3184), tensor([105,  79])), ((2356, 3248), tensor([107,  79])), ((2357, 3216), tensor([106,  79])), ((2358, 2394), tensor([80, 79])), ((2359, 2426), tensor([81, 79])), ((2360, 2458), tensor([82, 79])), ((2361, 2490), tensor([83, 79])), ((2362, 2522), tensor([84, 79])), ((2363, 2842), tensor([94, 79])), ((2364, 2810), tensor([93, 79])), ((2365, 2365), tensor([80, 80])), ((2366, 2397), tensor([81, 80])), ((2367, 2429), tensor([82, 80])), ((2368, 2461), tensor([83, 80])), ((2369, 2493), tensor([84, 80])), ((2370, 2813), tensor([94, 80])), ((2371, 2781), tensor([93, 80])), ((2372, 2749), tensor([92, 80])), ((2373, 2717), tensor([91, 80])), ((2374, 2685), tensor([90, 80])), ((2375, 3340), tensor([110,  80])), ((2376, 3372), tensor([111,  80])), ((2377, 3692), tensor([121,  80])), ((2378, 3660), tensor([120,  80])), ((2379, 3020), tensor([100,  80])), ((2380, 3052), tensor([101,  80])), ((2381, 3116), tensor([103,  80])), ((2382, 3084), tensor([102,  80])), ((2383, 3148), tensor([104,  80])), ((2384, 3468), tensor([114,  80])), ((2385, 3436), tensor([113,  80])), ((2386, 3404), tensor([112,  80])), ((2387, 3724), tensor([122,  80])), ((2388, 3756), tensor([123,  80])), ((2389, 3788), tensor([124,  80])), ((2395, 2678), tensor([89, 80])), ((2396, 2646), tensor([88, 80])), ((2398, 2398), tensor([81, 81])), ((2399, 2430), tensor([82, 81])), ((2400, 2462), tensor([83, 81])), ((2401, 2494), tensor([84, 81])), ((2402, 2814), tensor([94, 81])), ((2403, 2782), tensor([93, 81])), ((2404, 2750), tensor([92, 81])), ((2405, 2718), tensor([91, 81])), ((2406, 2686), tensor([90, 81])), ((2407, 3341), tensor([110,  81])), ((2408, 3373), tensor([111,  81])), ((2409, 3693), tensor([121,  81])), ((2410, 3661), tensor([120,  81])), ((2411, 3021), tensor([100,  81])), ((2412, 3053), tensor([101,  81])), ((2413, 3117), tensor([103,  81])), ((2414, 3085), tensor([102,  81])), ((2415, 3149), tensor([104,  81])), ((2416, 3469), tensor([114,  81])), ((2417, 3437), tensor([113,  81])), ((2418, 3405), tensor([112,  81])), ((2419, 3725), tensor([122,  81])), ((2420, 3757), tensor([123,  81])), ((2421, 3789), tensor([124,  81])), ((2427, 2679), tensor([89, 81])), ((2428, 2647), tensor([88, 81])), ((2431, 2431), tensor([82, 82])), ((2432, 2463), tensor([83, 82])), ((2433, 2495), tensor([84, 82])), ((2434, 2815), tensor([94, 82])), ((2435, 2783), tensor([93, 82])), ((2436, 2751), tensor([92, 82])), ((2437, 2719), tensor([91, 82])), ((2438, 2687), tensor([90, 82])), ((2439, 3118), tensor([103,  82])), ((2440, 3086), tensor([102,  82])), ((2441, 3150), tensor([104,  82])), ((2442, 3470), tensor([114,  82])), ((2443, 3438), tensor([113,  82])), ((2444, 3406), tensor([112,  82])), ((2445, 3726), tensor([122,  82])), ((2446, 3758), tensor([123,  82])), ((2447, 3790), tensor([124,  82])), ((2448, 3342), tensor([110,  82])), ((2449, 3374), tensor([111,  82])), ((2450, 3694), tensor([121,  82])), ((2451, 3662), tensor([120,  82])), ((2452, 3022), tensor([100,  82])), ((2453, 3054), tensor([101,  82])), ((2459, 2680), tensor([89, 82])), ((2460, 2648), tensor([88, 82])), ((2464, 2464), tensor([83, 83])), ((2465, 2496), tensor([84, 83])), ((2466, 2816), tensor([94, 83])), ((2467, 2784), tensor([93, 83])), ((2468, 2752), tensor([92, 83])), ((2469, 2720), tensor([91, 83])), ((2470, 2688), tensor([90, 83])), ((2471, 3119), tensor([103,  83])), ((2472, 3087), tensor([102,  83])), ((2473, 3151), tensor([104,  83])), ((2474, 3471), tensor([114,  83])), ((2475, 3439), tensor([113,  83])), ((2476, 3407), tensor([112,  83])), ((2477, 3727), tensor([122,  83])), ((2478, 3759), tensor([123,  83])), ((2479, 3791), tensor([124,  83])), ((2480, 3343), tensor([110,  83])), ((2481, 3375), tensor([111,  83])), ((2482, 3695), tensor([121,  83])), ((2483, 3663), tensor([120,  83])), ((2484, 3023), tensor([100,  83])), ((2485, 3055), tensor([101,  83])), ((2491, 2681), tensor([89, 83])), ((2492, 2649), tensor([88, 83])), ((2497, 2497), tensor([84, 84])), ((2498, 2817), tensor([94, 84])), ((2499, 2785), tensor([93, 84])), ((2500, 2753), tensor([92, 84])), ((2501, 2721), tensor([91, 84])), ((2502, 2689), tensor([90, 84])), ((2503, 3120), tensor([103,  84])), ((2504, 3088), tensor([102,  84])), ((2505, 3152), tensor([104,  84])), ((2506, 3472), tensor([114,  84])), ((2507, 3440), tensor([113,  84])), ((2508, 3408), tensor([112,  84])), ((2509, 3728), tensor([122,  84])), ((2510, 3760), tensor([123,  84])), ((2511, 3792), tensor([124,  84])), ((2512, 3344), tensor([110,  84])), ((2513, 3376), tensor([111,  84])), ((2514, 3696), tensor([121,  84])), ((2515, 3664), tensor([120,  84])), ((2516, 3024), tensor([100,  84])), ((2517, 3056), tensor([101,  84])), ((2523, 2682), tensor([89, 84])), ((2524, 2650), tensor([88, 84])), ((2530, 2662), tensor([89, 85])), ((2531, 2630), tensor([88, 85])), ((2532, 2598), tensor([87, 85])), ((2533, 2566), tensor([86, 85])), ((2534, 2534), tensor([85, 85])), ((2535, 3509), tensor([115,  85])), ((2536, 3541), tensor([116,  85])), ((2537, 3573), tensor([117,  85])), ((2538, 2933), tensor([97, 85])), ((2539, 2901), tensor([96, 85])), ((2540, 2869), tensor([95, 85])), ((2541, 3189), tensor([105,  85])), ((2542, 3253), tensor([107,  85])), ((2543, 3221), tensor([106,  85])), ((2544, 3285), tensor([108,  85])), ((2545, 3317), tensor([109,  85])), ((2546, 3637), tensor([119,  85])), ((2547, 3605), tensor([118,  85])), ((2548, 2965), tensor([98, 85])), ((2549, 2997), tensor([99, 85])), ((2562, 2661), tensor([89, 86])), ((2563, 2629), tensor([88, 86])), ((2564, 2597), tensor([87, 86])), ((2565, 2565), tensor([86, 86])), ((2567, 3508), tensor([115,  86])), ((2568, 3540), tensor([116,  86])), ((2569, 3572), tensor([117,  86])), ((2570, 2932), tensor([97, 86])), ((2571, 2900), tensor([96, 86])), ((2572, 2868), tensor([95, 86])), ((2573, 3188), tensor([105,  86])), ((2574, 3252), tensor([107,  86])), ((2575, 3220), tensor([106,  86])), ((2576, 3284), tensor([108,  86])), ((2577, 3316), tensor([109,  86])), ((2578, 3636), tensor([119,  86])), ((2579, 3604), tensor([118,  86])), ((2580, 2964), tensor([98, 86])), ((2581, 2996), tensor([99, 86])), ((2594, 2660), tensor([89, 87])), ((2595, 2628), tensor([88, 87])), ((2596, 2596), tensor([87, 87])), ((2599, 3507), tensor([115,  87])), ((2600, 3539), tensor([116,  87])), ((2601, 3571), tensor([117,  87])), ((2602, 2931), tensor([97, 87])), ((2603, 2899), tensor([96, 87])), ((2604, 2867), tensor([95, 87])), ((2605, 3187), tensor([105,  87])), ((2606, 3251), tensor([107,  87])), ((2607, 3219), tensor([106,  87])), ((2608, 3283), tensor([108,  87])), ((2609, 3315), tensor([109,  87])), ((2610, 3635), tensor([119,  87])), ((2611, 3603), tensor([118,  87])), ((2612, 2963), tensor([98, 87])), ((2613, 2995), tensor([99, 87])), ((2626, 2659), tensor([89, 88])), ((2627, 2627), tensor([88, 88])), ((2631, 3282), tensor([108,  88])), ((2632, 3314), tensor([109,  88])), ((2633, 3634), tensor([119,  88])), ((2634, 3602), tensor([118,  88])), ((2635, 2962), tensor([98, 88])), ((2636, 2994), tensor([99, 88])), ((2637, 3506), tensor([115,  88])), ((2638, 3538), tensor([116,  88])), ((2639, 3570), tensor([117,  88])), ((2640, 2930), tensor([97, 88])), ((2641, 2898), tensor([96, 88])), ((2642, 2866), tensor([95, 88])), ((2643, 3186), tensor([105,  88])), ((2644, 3250), tensor([107,  88])), ((2645, 3218), tensor([106,  88])), ((2651, 2844), tensor([94, 88])), ((2652, 2812), tensor([93, 88])), ((2658, 2658), tensor([89, 89])), ((2663, 3281), tensor([108,  89])), ((2664, 3313), tensor([109,  89])), ((2665, 3633), tensor([119,  89])), ((2666, 3601), tensor([118,  89])), ((2667, 2961), tensor([98, 89])), ((2668, 2993), tensor([99, 89])), ((2669, 3505), tensor([115,  89])), ((2670, 3537), tensor([116,  89])), ((2671, 3569), tensor([117,  89])), ((2672, 2929), tensor([97, 89])), ((2673, 2897), tensor([96, 89])), ((2674, 2865), tensor([95, 89])), ((2675, 3185), tensor([105,  89])), ((2676, 3249), tensor([107,  89])), ((2677, 3217), tensor([106,  89])), ((2683, 2843), tensor([94, 89])), ((2684, 2811), tensor([93, 89])), ((2690, 2822), tensor([94, 90])), ((2691, 2790), tensor([93, 90])), ((2692, 2758), tensor([92, 90])), ((2693, 2726), tensor([91, 90])), ((2694, 2694), tensor([90, 90])), ((2695, 3349), tensor([110,  90])), ((2696, 3381), tensor([111,  90])), ((2697, 3701), tensor([121,  90])), ((2698, 3669), tensor([120,  90])), ((2699, 3029), tensor([100,  90])), ((2700, 3061), tensor([101,  90])), ((2701, 3125), tensor([103,  90])), ((2702, 3093), tensor([102,  90])), ((2703, 3157), tensor([104,  90])), ((2704, 3477), tensor([114,  90])), ((2705, 3445), tensor([113,  90])), ((2706, 3413), tensor([112,  90])), ((2707, 3733), tensor([122,  90])), ((2708, 3765), tensor([123,  90])), ((2709, 3797), tensor([124,  90])), ((2722, 2821), tensor([94, 91])), ((2723, 2789), tensor([93, 91])), ((2724, 2757), tensor([92, 91])), ((2725, 2725), tensor([91, 91])), ((2727, 3348), tensor([110,  91])), ((2728, 3380), tensor([111,  91])), ((2729, 3700), tensor([121,  91])), ((2730, 3668), tensor([120,  91])), ((2731, 3028), tensor([100,  91])), ((2732, 3060), tensor([101,  91])), ((2733, 3124), tensor([103,  91])), ((2734, 3092), tensor([102,  91])), ((2735, 3156), tensor([104,  91])), ((2736, 3476), tensor([114,  91])), ((2737, 3444), tensor([113,  91])), ((2738, 3412), tensor([112,  91])), ((2739, 3732), tensor([122,  91])), ((2740, 3764), tensor([123,  91])), ((2741, 3796), tensor([124,  91])), ((2754, 2820), tensor([94, 92])), ((2755, 2788), tensor([93, 92])), ((2756, 2756), tensor([92, 92])), ((2759, 3123), tensor([103,  92])), ((2760, 3091), tensor([102,  92])), ((2761, 3155), tensor([104,  92])), ((2762, 3475), tensor([114,  92])), ((2763, 3443), tensor([113,  92])), ((2764, 3411), tensor([112,  92])), ((2765, 3731), tensor([122,  92])), ((2766, 3763), tensor([123,  92])), ((2767, 3795), tensor([124,  92])), ((2768, 3347), tensor([110,  92])), ((2769, 3379), tensor([111,  92])), ((2770, 3699), tensor([121,  92])), ((2771, 3667), tensor([120,  92])), ((2772, 3027), tensor([100,  92])), ((2773, 3059), tensor([101,  92])), ((2786, 2819), tensor([94, 93])), ((2787, 2787), tensor([93, 93])), ((2791, 3122), tensor([103,  93])), ((2792, 3090), tensor([102,  93])), ((2793, 3154), tensor([104,  93])), ((2794, 3474), tensor([114,  93])), ((2795, 3442), tensor([113,  93])), ((2796, 3410), tensor([112,  93])), ((2797, 3730), tensor([122,  93])), ((2798, 3762), tensor([123,  93])), ((2799, 3794), tensor([124,  93])), ((2800, 3346), tensor([110,  93])), ((2801, 3378), tensor([111,  93])), ((2802, 3698), tensor([121,  93])), ((2803, 3666), tensor([120,  93])), ((2804, 3026), tensor([100,  93])), ((2805, 3058), tensor([101,  93])), ((2818, 2818), tensor([94, 94])), ((2823, 3121), tensor([103,  94])), ((2824, 3089), tensor([102,  94])), ((2825, 3153), tensor([104,  94])), ((2826, 3473), tensor([114,  94])), ((2827, 3441), tensor([113,  94])), ((2828, 3409), tensor([112,  94])), ((2829, 3729), tensor([122,  94])), ((2830, 3761), tensor([123,  94])), ((2831, 3793), tensor([124,  94])), ((2832, 3345), tensor([110,  94])), ((2833, 3377), tensor([111,  94])), ((2834, 3697), tensor([121,  94])), ((2835, 3665), tensor([120,  94])), ((2836, 3025), tensor([100,  94])), ((2837, 3057), tensor([101,  94])), ((2845, 3490), tensor([115,  95])), ((2846, 3522), tensor([116,  95])), ((2847, 3554), tensor([117,  95])), ((2848, 2914), tensor([97, 95])), ((2849, 2882), tensor([96, 95])), ((2850, 2850), tensor([95, 95])), ((2851, 3170), tensor([105,  95])), ((2852, 3234), tensor([107,  95])), ((2853, 3202), tensor([106,  95])), ((2854, 3272), tensor([108,  95])), ((2855, 3304), tensor([109,  95])), ((2856, 3624), tensor([119,  95])), ((2857, 3592), tensor([118,  95])), ((2858, 2952), tensor([98, 95])), ((2859, 2984), tensor([99, 95])), ((2877, 3489), tensor([115,  96])), ((2878, 3521), tensor([116,  96])), ((2879, 3553), tensor([117,  96])), ((2880, 2913), tensor([97, 96])), ((2881, 2881), tensor([96, 96])), ((2883, 3169), tensor([105,  96])), ((2884, 3233), tensor([107,  96])), ((2885, 3201), tensor([106,  96])), ((2886, 3271), tensor([108,  96])), ((2887, 3303), tensor([109,  96])), ((2888, 3623), tensor([119,  96])), ((2889, 3591), tensor([118,  96])), ((2890, 2951), tensor([98, 96])), ((2891, 2983), tensor([99, 96])), ((2909, 3488), tensor([115,  97])), ((2910, 3520), tensor([116,  97])), ((2911, 3552), tensor([117,  97])), ((2912, 2912), tensor([97, 97])), ((2915, 3168), tensor([105,  97])), ((2916, 3232), tensor([107,  97])), ((2917, 3200), tensor([106,  97])), ((2918, 3270), tensor([108,  97])), ((2919, 3302), tensor([109,  97])), ((2920, 3622), tensor([119,  97])), ((2921, 3590), tensor([118,  97])), ((2922, 2950), tensor([98, 97])), ((2923, 2982), tensor([99, 97])), ((2941, 3265), tensor([108,  98])), ((2942, 3297), tensor([109,  98])), ((2943, 3617), tensor([119,  98])), ((2944, 3585), tensor([118,  98])), ((2945, 2945), tensor([98, 98])), ((2946, 2977), tensor([99, 98])), ((2947, 3498), tensor([115,  98])), ((2948, 3530), tensor([116,  98])), ((2949, 3562), tensor([117,  98])), ((2953, 3178), tensor([105,  98])), ((2954, 3242), tensor([107,  98])), ((2955, 3210), tensor([106,  98])), ((2966, 3354), tensor([110,  98])), ((2967, 3386), tensor([111,  98])), ((2968, 3706), tensor([121,  98])), ((2969, 3674), tensor([120,  98])), ((2970, 3034), tensor([100,  98])), ((2971, 3066), tensor([101,  98])), ((2972, 3130), tensor([103,  98])), ((2973, 3266), tensor([108,  99])), ((2974, 3298), tensor([109,  99])), ((2975, 3618), tensor([119,  99])), ((2976, 3586), tensor([118,  99])), ((2978, 2978), tensor([99, 99])), ((2979, 3499), tensor([115,  99])), ((2980, 3531), tensor([116,  99])), ((2981, 3563), tensor([117,  99])), ((2985, 3179), tensor([105,  99])), ((2986, 3243), tensor([107,  99])), ((2987, 3211), tensor([106,  99])), ((2998, 3355), tensor([110,  99])), ((2999, 3387), tensor([111,  99])), ((3000, 3707), tensor([121,  99])), ((3001, 3675), tensor([120,  99])), ((3002, 3035), tensor([100,  99])), ((3003, 3067), tensor([101,  99])), ((3004, 3131), tensor([103,  99])), ((3005, 3329), tensor([110, 100])), ((3006, 3361), tensor([111, 100])), ((3007, 3681), tensor([121, 100])), ((3008, 3649), tensor([120, 100])), ((3009, 3009), tensor([100, 100])), ((3010, 3041), tensor([101, 100])), ((3011, 3114), tensor([103, 100])), ((3012, 3082), tensor([102, 100])), ((3013, 3146), tensor([104, 100])), ((3014, 3466), tensor([114, 100])), ((3015, 3434), tensor([113, 100])), ((3016, 3402), tensor([112, 100])), ((3017, 3722), tensor([122, 100])), ((3018, 3754), tensor([123, 100])), ((3019, 3786), tensor([124, 100])), ((3030, 3290), tensor([108, 100])), ((3031, 3322), tensor([109, 100])), ((3032, 3642), tensor([119, 100])), ((3033, 3610), tensor([118, 100])), ((3036, 3514), tensor([115, 100])), ((3037, 3330), tensor([110, 101])), ((3038, 3362), tensor([111, 101])), ((3039, 3682), tensor([121, 101])), ((3040, 3650), tensor([120, 101])), ((3042, 3042), tensor([101, 101])), ((3043, 3115), tensor([103, 101])), ((3044, 3083), tensor([102, 101])), ((3045, 3147), tensor([104, 101])), ((3046, 3467), tensor([114, 101])), ((3047, 3435), tensor([113, 101])), ((3048, 3403), tensor([112, 101])), ((3049, 3723), tensor([122, 101])), ((3050, 3755), tensor([123, 101])), ((3051, 3787), tensor([124, 101])), ((3062, 3291), tensor([108, 101])), ((3063, 3323), tensor([109, 101])), ((3064, 3643), tensor([119, 101])), ((3065, 3611), tensor([118, 101])), ((3068, 3515), tensor([115, 101])), ((3069, 3102), tensor([103, 102])), ((3070, 3070), tensor([102, 102])), ((3071, 3134), tensor([104, 102])), ((3072, 3454), tensor([114, 102])), ((3073, 3422), tensor([113, 102])), ((3074, 3390), tensor([112, 102])), ((3075, 3710), tensor([122, 102])), ((3076, 3742), tensor([123, 102])), ((3077, 3774), tensor([124, 102])), ((3078, 3332), tensor([110, 102])), ((3079, 3364), tensor([111, 102])), ((3080, 3684), tensor([121, 102])), ((3081, 3652), tensor([120, 102])), ((3101, 3101), tensor([103, 103])), ((3103, 3133), tensor([104, 103])), ((3104, 3453), tensor([114, 103])), ((3105, 3421), tensor([113, 103])), ((3106, 3389), tensor([112, 103])), ((3107, 3709), tensor([122, 103])), ((3108, 3741), tensor([123, 103])), ((3109, 3773), tensor([124, 103])), ((3110, 3331), tensor([110, 103])), ((3111, 3363), tensor([111, 103])), ((3112, 3683), tensor([121, 103])), ((3113, 3651), tensor([120, 103])), ((3126, 3292), tensor([108, 103])), ((3127, 3324), tensor([109, 103])), ((3128, 3644), tensor([119, 103])), ((3129, 3612), tensor([118, 103])), ((3132, 3516), tensor([115, 103])), ((3135, 3135), tensor([104, 104])), ((3136, 3455), tensor([114, 104])), ((3137, 3423), tensor([113, 104])), ((3138, 3391), tensor([112, 104])), ((3139, 3711), tensor([122, 104])), ((3140, 3743), tensor([123, 104])), ((3141, 3775), tensor([124, 104])), ((3142, 3333), tensor([110, 104])), ((3143, 3365), tensor([111, 104])), ((3144, 3685), tensor([121, 104])), ((3145, 3653), tensor([120, 104])), ((3165, 3491), tensor([115, 105])), ((3166, 3523), tensor([116, 105])), ((3167, 3555), tensor([117, 105])), ((3171, 3171), tensor([105, 105])), ((3172, 3235), tensor([107, 105])), ((3173, 3203), tensor([106, 105])), ((3174, 3273), tensor([108, 105])), ((3175, 3305), tensor([109, 105])), ((3176, 3625), tensor([119, 105])), ((3177, 3593), tensor([118, 105])), ((3197, 3493), tensor([115, 106])), ((3198, 3525), tensor([116, 106])), ((3199, 3557), tensor([117, 106])), ((3204, 3237), tensor([107, 106])), ((3205, 3205), tensor([106, 106])), ((3206, 3275), tensor([108, 106])), ((3207, 3307), tensor([109, 106])), ((3208, 3627), tensor([119, 106])), ((3209, 3595), tensor([118, 106])), ((3229, 3492), tensor([115, 107])), ((3230, 3524), tensor([116, 107])), ((3231, 3556), tensor([117, 107])), ((3236, 3236), tensor([107, 107])), ((3238, 3274), tensor([108, 107])), ((3239, 3306), tensor([109, 107])), ((3240, 3626), tensor([119, 107])), ((3241, 3594), tensor([118, 107])), ((3261, 3261), tensor([108, 108])), ((3262, 3293), tensor([109, 108])), ((3263, 3613), tensor([119, 108])), ((3264, 3581), tensor([118, 108])), ((3267, 3494), tensor([115, 108])), ((3268, 3526), tensor([116, 108])), ((3269, 3558), tensor([117, 108])), ((3286, 3350), tensor([110, 108])), ((3287, 3382), tensor([111, 108])), ((3288, 3702), tensor([121, 108])), ((3289, 3670), tensor([120, 108])), ((3294, 3294), tensor([109, 109])), ((3295, 3614), tensor([119, 109])), ((3296, 3582), tensor([118, 109])), ((3299, 3495), tensor([115, 109])), ((3300, 3527), tensor([116, 109])), ((3301, 3559), tensor([117, 109])), ((3318, 3351), tensor([110, 109])), ((3319, 3383), tensor([111, 109])), ((3320, 3703), tensor([121, 109])), ((3321, 3671), tensor([120, 109])), ((3325, 3325), tensor([110, 110])), ((3326, 3357), tensor([111, 110])), ((3327, 3677), tensor([121, 110])), ((3328, 3645), tensor([120, 110])), ((3334, 3462), tensor([114, 110])), ((3335, 3430), tensor([113, 110])), ((3336, 3398), tensor([112, 110])), ((3337, 3718), tensor([122, 110])), ((3338, 3750), tensor([123, 110])), ((3339, 3782), tensor([124, 110])), ((3352, 3638), tensor([119, 110])), ((3353, 3606), tensor([118, 110])), ((3356, 3510), tensor([115, 110])), ((3358, 3358), tensor([111, 111])), ((3359, 3678), tensor([121, 111])), ((3360, 3646), tensor([120, 111])), ((3366, 3463), tensor([114, 111])), ((3367, 3431), tensor([113, 111])), ((3368, 3399), tensor([112, 111])), ((3369, 3719), tensor([122, 111])), ((3370, 3751), tensor([123, 111])), ((3371, 3783), tensor([124, 111])), ((3384, 3639), tensor([119, 111])), ((3385, 3607), tensor([118, 111])), ((3388, 3511), tensor([115, 111])), ((3392, 3458), tensor([114, 112])), ((3393, 3426), tensor([113, 112])), ((3394, 3394), tensor([112, 112])), ((3395, 3714), tensor([122, 112])), ((3396, 3746), tensor([123, 112])), ((3397, 3778), tensor([124, 112])), ((3400, 3688), tensor([121, 112])), ((3401, 3656), tensor([120, 112])), ((3424, 3457), tensor([114, 113])), ((3425, 3425), tensor([113, 113])), ((3427, 3713), tensor([122, 113])), ((3428, 3745), tensor([123, 113])), ((3429, 3777), tensor([124, 113])), ((3432, 3687), tensor([121, 113])), ((3433, 3655), tensor([120, 113])), ((3456, 3456), tensor([114, 114])), ((3459, 3712), tensor([122, 114])), ((3460, 3744), tensor([123, 114])), ((3461, 3776), tensor([124, 114])), ((3464, 3686), tensor([121, 114])), ((3465, 3654), tensor([120, 114])), ((3485, 3485), tensor([115, 115])), ((3486, 3517), tensor([116, 115])), ((3487, 3549), tensor([117, 115])), ((3496, 3619), tensor([119, 115])), ((3497, 3587), tensor([118, 115])), ((3512, 3708), tensor([121, 115])), ((3513, 3676), tensor([120, 115])), ((3518, 3518), tensor([116, 116])), ((3519, 3550), tensor([117, 116])), ((3528, 3620), tensor([119, 116])), ((3529, 3588), tensor([118, 116])), ((3551, 3551), tensor([117, 117])), ((3560, 3621), tensor([119, 117])), ((3561, 3589), tensor([118, 117])), ((3583, 3616), tensor([119, 118])), ((3584, 3584), tensor([118, 118])), ((3608, 3705), tensor([121, 118])), ((3609, 3673), tensor([120, 118])), ((3615, 3615), tensor([119, 119])), ((3640, 3704), tensor([121, 119])), ((3641, 3672), tensor([120, 119])), ((3647, 3680), tensor([121, 120])), ((3648, 3648), tensor([120, 120])), ((3657, 3721), tensor([122, 120])), ((3658, 3753), tensor([123, 120])), ((3659, 3785), tensor([124, 120])), ((3679, 3679), tensor([121, 121])), ((3689, 3720), tensor([122, 121])), ((3690, 3752), tensor([123, 121])), ((3691, 3784), tensor([124, 121])), ((3715, 3715), tensor([122, 122])), ((3716, 3747), tensor([123, 122])), ((3717, 3779), tensor([124, 122])), ((3748, 3748), tensor([123, 123])), ((3749, 3780), tensor([124, 123])), ((3781, 3781), tensor([124, 124]))]\n"
     ]
    }
   ],
   "source": [
    "print(edge_index)\n",
    "\n",
    "# Find edge index where sender==receiver\n",
    "edge_index_inverted = torch.empty(edge_index.shape, dtype=torch.int64)\n",
    "edge_index_inverted[[0, 1], :] = edge_index[[1, 0], :]\n",
    "\n",
    "# Algorithm-1\n",
    "graph_connectivity_indices = []\n",
    "length = len(edge_index.T)\n",
    "for i, sender2receiver in enumerate(edge_index.T):\n",
    "    # if i < 5:\n",
    "        for j, receiver2sender in enumerate(edge_index_inverted.T[i:]):\n",
    "            if torch.equal(sender2receiver, receiver2sender):\n",
    "                bidirectional_edge_id = i, j+i\n",
    "                bidirectional_node_id = edge_index.T[i]\n",
    "                graph_connectivity_index = bidirectional_edge_id, bidirectional_node_id\n",
    "                graph_connectivity_indices.append(graph_connectivity_index)\n",
    "print(i)\n",
    "print(graph_connectivity_indices)"
   ],
   "metadata": {
    "collapsed": false,
    "pycharm": {
     "name": "#%%\n"
    }
   }
  },
  {
   "cell_type": "code",
   "execution_count": 12,
   "outputs": [
    {
     "data": {
      "text/plain": "tensor([1, 0])"
     },
     "execution_count": 12,
     "metadata": {},
     "output_type": "execute_result"
    }
   ],
   "source": [
    "As[0][1]"
   ],
   "metadata": {
    "collapsed": false,
    "pycharm": {
     "name": "#%%\n"
    }
   }
  },
  {
   "cell_type": "code",
   "execution_count": null,
   "outputs": [],
   "source": [],
   "metadata": {
    "collapsed": false,
    "pycharm": {
     "name": "#%%\n"
    }
   }
  },
  {
   "cell_type": "markdown",
   "source": [
    "#### Another option for searching\n",
    "The script removes repetitive arrays"
   ],
   "metadata": {
    "collapsed": false,
    "pycharm": {
     "name": "#%% md\n"
    }
   }
  },
  {
   "cell_type": "code",
   "execution_count": 11,
   "outputs": [
    {
     "data": {
      "text/plain": "tensor([[1, 2, 0, 3, 0, 3, 1, 2, 5, 6, 4, 7, 4, 7, 5, 6],\n        [0, 0, 1, 1, 2, 2, 3, 3, 4, 4, 5, 5, 6, 6, 7, 7]])"
     },
     "execution_count": 11,
     "metadata": {},
     "output_type": "execute_result"
    }
   ],
   "source": [
    "edge_index"
   ],
   "metadata": {
    "collapsed": false,
    "pycharm": {
     "name": "#%%\n"
    }
   }
  },
  {
   "cell_type": "code",
   "execution_count": 26,
   "outputs": [
    {
     "name": "stdout",
     "output_type": "stream",
     "text": [
      "[[0, 1], [0, 2], [0, 1], [1, 3], [0, 2], [2, 3], [1, 3], [2, 3], [4, 5], [4, 6], [4, 5], [5, 7], [4, 6], [6, 7], [5, 7], [6, 7]]\n"
     ]
    },
    {
     "data": {
      "text/plain": "[[0, 1], [0, 2], [1, 3], [2, 3], [4, 5], [4, 6], [5, 7], [6, 7]]"
     },
     "execution_count": 26,
     "metadata": {},
     "output_type": "execute_result"
    }
   ],
   "source": [
    "sorted_edge_index = [i for i in map(sorted, edge_index.T.tolist())]\n",
    "print(sorted_edge_index)\n",
    "bidirectional_edge_id_try = []\n",
    "for i, a in enumerate(sorted_edge_index):\n",
    "    if a not in bidirectional_edge_id_try:\n",
    "        bidirectional_edge_id_try.append(a)\n",
    "bidirectional_edge_id_try"
   ],
   "metadata": {
    "collapsed": false,
    "pycharm": {
     "name": "#%%\n"
    }
   }
  },
  {
   "cell_type": "code",
   "execution_count": 100,
   "outputs": [
    {
     "name": "stdout",
     "output_type": "stream",
     "text": [
      "[(0, 1), (4, 6), (5, 7), (2, 3), (6, 7), (0, 2), (4, 5), (1, 3)]\n",
      "tensor([0, 2]) (0, 1)\n",
      "tensor([1, 4]) (4, 6)\n",
      "tensor([3, 6]) (5, 7)\n",
      "tensor([5, 7]) (2, 3)\n",
      "tensor([ 8, 10]) (6, 7)\n",
      "tensor([ 9, 12]) (0, 2)\n",
      "tensor([11, 14]) (4, 5)\n",
      "tensor([13, 15]) (1, 3)\n"
     ]
    }
   ],
   "source": [
    "connected_nodes_2 = {tuple(i) for i in map(sorted, edge_index.T.tolist())}\n",
    "print(list(connected_nodes_2))\n",
    "\n",
    "for i, nodes in zip(bidirectional_edge_id, connected_nodes_2):\n",
    "    print(i, nodes)"
   ],
   "metadata": {
    "collapsed": false,
    "pycharm": {
     "name": "#%%\n"
    }
   }
  },
  {
   "cell_type": "markdown",
   "source": [
    "Objective: find connected and non-connected edge ids, and compare messages\n",
    "* Find connected edges and their IDs\n",
    "*\n"
   ],
   "metadata": {
    "collapsed": false,
    "pycharm": {
     "name": "#%% md\n"
    }
   }
  },
  {
   "cell_type": "code",
   "execution_count": 68,
   "outputs": [
    {
     "name": "stdout",
     "output_type": "stream",
     "text": [
      "tensor([[1, 2, 0, 3, 0, 3, 1, 2, 5, 6, 4, 7, 4, 7, 5, 6],\n",
      "        [0, 0, 1, 1, 2, 2, 3, 3, 4, 4, 5, 5, 6, 6, 7, 7]])\n",
      "tensor([[0, 0, 1, 1, 2, 2, 3, 3, 4, 4, 5, 5, 6, 6, 7, 7],\n",
      "        [1, 2, 0, 3, 0, 3, 1, 2, 5, 6, 4, 7, 4, 7, 5, 6]])\n"
     ]
    }
   ],
   "source": [
    "print(edge_index)\n",
    "print(edge_index_inverted)"
   ],
   "metadata": {
    "collapsed": false,
    "pycharm": {
     "name": "#%%\n"
    }
   }
  },
  {
   "cell_type": "code",
   "execution_count": null,
   "outputs": [],
   "source": [],
   "metadata": {
    "collapsed": false,
    "pycharm": {
     "name": "#%%\n"
    }
   }
  }
 ],
 "metadata": {
  "kernelspec": {
   "display_name": "venv",
   "language": "python",
   "name": "venv"
  },
  "language_info": {
   "codemirror_mode": {
    "name": "ipython",
    "version": 3
   },
   "file_extension": ".py",
   "mimetype": "text/x-python",
   "name": "python",
   "nbconvert_exporter": "python",
   "pygments_lexer": "ipython3",
   "version": "3.10.4"
  }
 },
 "nbformat": 4,
 "nbformat_minor": 5
}