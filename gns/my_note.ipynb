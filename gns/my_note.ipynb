{
 "cells": [
  {
   "cell_type": "code",
   "execution_count": 1,
   "id": "2827f558",
   "metadata": {
    "pycharm": {
     "name": "#%%\n"
    }
   },
   "outputs": [
    {
     "name": "stderr",
     "output_type": "stream",
     "text": [
      "/home/yjc/Documents/gns-2/venv/lib/python3.10/site-packages/tqdm/auto.py:22: TqdmWarning: IProgress not found. Please update jupyter and ipywidgets. See https://ipywidgets.readthedocs.io/en/stable/user_install.html\n",
      "  from .autonotebook import tqdm as notebook_tqdm\n"
     ]
    }
   ],
   "source": [
    "import torch\n",
    "import torch_geometric\n",
    "from torch_geometric.nn import radius_graph\n",
    "from gns import data_loader\n",
    "import numpy as np\n",
    "import networkx as nx\n",
    "from matplotlib import pyplot as plt"
   ]
  },
  {
   "cell_type": "markdown",
   "id": "ff06aa35",
   "metadata": {
    "pycharm": {
     "name": "#%% md\n"
    }
   },
   "source": [
    "# Check `train.py` Created with MPM Results"
   ]
  },
  {
   "cell_type": "code",
   "execution_count": 3,
   "id": "bb45e0af",
   "metadata": {
    "pycharm": {
     "name": "#%%\n"
    }
   },
   "outputs": [
    {
     "name": "stdout",
     "output_type": "stream",
     "text": [
      "MPM trajectory ID: simulation_trajectory_0\n",
      "Position data of trajectory: (320, 6400, 2)\n",
      "Material type:(6400,)\n",
      "MPM trajectory ID: simulation_trajectory_1\n",
      "Position data of trajectory: (320, 6400, 2)\n",
      "Material type:(6400,)\n",
      "MPM trajectory ID: simulation_trajectory_2\n",
      "Position data of trajectory: (320, 6400, 2)\n",
      "Material type:(6400,)\n",
      "MPM trajectory ID: simulation_trajectory_3\n",
      "Position data of trajectory: (320, 6400, 2)\n",
      "Material type:(6400,)\n",
      "MPM trajectory ID: simulation_trajectory_4\n",
      "Position data of trajectory: (320, 6400, 2)\n",
      "Material type:(6400,)\n",
      "MPM trajectory ID: simulation_trajectory_5\n",
      "Position data of trajectory: (320, 6400, 2)\n",
      "Material type:(6400,)\n",
      "MPM trajectory ID: simulation_trajectory_6\n",
      "Position data of trajectory: (320, 6400, 2)\n",
      "Material type:(6400,)\n",
      "MPM trajectory ID: simulation_trajectory_7\n",
      "Position data of trajectory: (320, 7200, 2)\n",
      "Material type:(7200,)\n",
      "MPM trajectory ID: simulation_trajectory_8\n",
      "Position data of trajectory: (320, 4800, 2)\n",
      "Material type:(4800,)\n"
     ]
    }
   ],
   "source": [
    "data_path = \"../gns-data/datasets/sand-2d/train.npz\"\n",
    "npz_data = np.load(data_path, allow_pickle=True)\n",
    "for id, trajectory in npz_data.items():\n",
    "    print(f'MPM trajectory ID: {id}')\n",
    "    print(f'Position data of trajectory: {trajectory[0].shape}')\n",
    "    print(f'Material type:{trajectory[1].shape}')"
   ]
  },
  {
   "cell_type": "markdown",
   "id": "4ea6f35c",
   "metadata": {
    "pycharm": {
     "name": "#%% md\n"
    }
   },
   "source": [
    "# See How torch `raius_graph` Works"
   ]
  },
  {
   "cell_type": "markdown",
   "id": "f230e17b",
   "metadata": {
    "pycharm": {
     "name": "#%% md\n"
    }
   },
   "source": [
    "All the nodes are conncected because all of the noede features are in each nodes connectivity radius."
   ]
  },
  {
   "cell_type": "code",
   "execution_count": 26,
   "id": "5ab42e0a",
   "metadata": {
    "pycharm": {
     "name": "#%%\n"
    }
   },
   "outputs": [
    {
     "data": {
      "image/png": "[encoded data removed]",
      "text/plain": [
       "<Figure size 432x288 with 1 Axes>"
      ]
     },
     "metadata": {},
     "output_type": "display_data"
    }
   ],
   "source": [
    "node_features = torch.tensor([[0, 0],\n",
    "                              [1, 0],\n",
    "                              [1, 1],\n",
    "                              [0, 1]])\n",
    "\n",
    "edge_index = radius_graph(\n",
    "    node_features, r=2, batch=None, loop=True)\n",
    "\n",
    "data = torch_geometric.data.Data(x=node_features, edge_index=edge_index)\n",
    "g = torch_geometric.utils.to_networkx(data, to_undirected=False, remove_self_loops=False)\n",
    "# plt.figure()\n",
    "nx.draw(g, with_labels=True)\n",
    "plt.show()"
   ]
  },
  {
   "cell_type": "markdown",
   "id": "77426036",
   "metadata": {
    "pycharm": {
     "name": "#%% md\n"
    }
   },
   "source": [
    "See the shape of node features and edge features"
   ]
  },
  {
   "cell_type": "code",
   "execution_count": 9,
   "id": "985e1680",
   "metadata": {
    "pycharm": {
     "name": "#%%\n"
    }
   },
   "outputs": [
    {
     "data": {
      "text/plain": [
       "Data(x=[4, 2], edge_index=[2, 16])"
      ]
     },
     "execution_count": 9,
     "metadata": {},
     "output_type": "execute_result"
    }
   ],
   "source": [
    "data"
   ]
  },
  {
   "cell_type": "markdown",
   "id": "e3b9e950",
   "metadata": {
    "pycharm": {
     "name": "#%% md\n"
    }
   },
   "source": [
    "Beside these, you can look more into details about graph `data`."
   ]
  },
  {
   "cell_type": "code",
   "execution_count": 14,
   "id": "d5a765fc",
   "metadata": {
    "pycharm": {
     "name": "#%%\n"
    }
   },
   "outputs": [
    {
     "name": "stdout",
     "output_type": "stream",
     "text": [
      "['edge_index', 'x']\n"
     ]
    }
   ],
   "source": [
    "print(data.keys)"
   ]
  },
  {
   "cell_type": "code",
   "execution_count": 15,
   "id": "be8e1a21",
   "metadata": {
    "pycharm": {
     "name": "#%%\n"
    }
   },
   "outputs": [
    {
     "name": "stdout",
     "output_type": "stream",
     "text": [
      "tensor([[0, 0],\n",
      "        [1, 0],\n",
      "        [1, 1],\n",
      "        [0, 1]])\n"
     ]
    }
   ],
   "source": [
    "print(data['x'])"
   ]
  },
  {
   "cell_type": "code",
   "execution_count": 16,
   "id": "76cc5291",
   "metadata": {
    "pycharm": {
     "name": "#%%\n"
    }
   },
   "outputs": [
    {
     "name": "stdout",
     "output_type": "stream",
     "text": [
      "tensor([[0, 1, 2, 3, 0, 1, 2, 3, 0, 1, 2, 3, 0, 1, 2, 3],\n",
      "        [0, 0, 0, 0, 1, 1, 1, 1, 2, 2, 2, 2, 3, 3, 3, 3]])\n"
     ]
    }
   ],
   "source": [
    "print(data['edge_index'])"
   ]
  },
  {
   "cell_type": "code",
   "execution_count": 19,
   "id": "d70ea6eb",
   "metadata": {
    "pycharm": {
     "name": "#%%\n"
    }
   },
   "outputs": [
    {
     "name": "stdout",
     "output_type": "stream",
     "text": [
      "x found in data\n",
      "tensor([[0, 0],\n",
      "        [1, 0],\n",
      "        [1, 1],\n",
      "        [0, 1]]) found in data\n",
      "edge_index found in data\n",
      "tensor([[0, 1, 2, 3, 0, 1, 2, 3, 0, 1, 2, 3, 0, 1, 2, 3],\n",
      "        [0, 0, 0, 0, 1, 1, 1, 1, 2, 2, 2, 2, 3, 3, 3, 3]]) found in data\n"
     ]
    }
   ],
   "source": [
    "for key, item in data:\n",
    "    print(f'{key} found in data')\n",
    "    print(f'{item} found in data')"
   ]
  },
  {
   "cell_type": "markdown",
   "id": "84081784",
   "metadata": {
    "pycharm": {
     "name": "#%% md\n"
    }
   },
   "source": [
    "# Steps for Implementing Conservation of Mementum in GNS"
   ]
  },
  {
   "cell_type": "markdown",
   "id": "c2a965c1",
   "metadata": {
    "pycharm": {
     "name": "#%% md\n"
    }
   },
   "source": [
    "## Shape of batch in GNS"
   ]
  },
  {
   "cell_type": "markdown",
   "id": "9168fda4",
   "metadata": {
    "pycharm": {
     "name": "#%% md\n"
    }
   },
   "source": [
    "Our `train.py` is a dictionary of \"simulation_trajectories\". Each has trajectory length of 320. The `data_loader_by_samples` samples a training examples ((positions, sequence of current 6 positions, dim), (next ground truth position)) for 2 batches"
   ]
  },
  {
   "cell_type": "code",
   "execution_count": 27,
   "id": "02b49559",
   "metadata": {
    "pycharm": {
     "name": "#%%\n"
    }
   },
   "outputs": [
    {
     "name": "stdout",
     "output_type": "stream",
     "text": [
      "1413\n",
      "torch.Size([12800, 6, 2])\n",
      "torch.Size([12800])\n",
      "torch.Size([2])\n",
      "tensor([6400, 6400])\n",
      "torch.Size([12800, 2])\n",
      "0\n"
     ]
    }
   ],
   "source": [
    "data_path = \"../gns-data/datasets/sand-2d/\"\n",
    "ds = data_loader.get_data_loader_by_samples(path=f\"{data_path}train.npz\",\n",
    "                                              input_length_sequence=6,\n",
    "                                              batch_size=2,\n",
    "                                              shuffle=False)\n",
    "\n",
    "# length of ds is, (trajectory_length - 6)*(n_trajectory)/2\n",
    "print(len(ds)) # 1413 =  (320-6)*9 / 2\n",
    "\n",
    "# Look at the first 2 trajectory.\n",
    "for i, ((position, particle_type, n_particles_per_example), labels) in enumerate(ds):\n",
    "    if i == 1:\n",
    "        break\n",
    "    print(position.shape)  # torch.Size([12800, 6, 2])\n",
    "    print(particle_type.shape)  # torch.Size([12800])\n",
    "    print(n_particles_per_example.shape)  # torch.Size([2])\n",
    "    print(n_particles_per_example)  # tensor([6400, 6400])\n",
    "    print(labels.shape)  # torch.Size([12800, 2])\n",
    "    print(i)"
   ]
  },
  {
   "cell_type": "markdown",
   "id": "d7af6b61",
   "metadata": {
    "pycharm": {
     "name": "#%% md\n"
    }
   },
   "source": [
    "## Play with similar artifitial batch"
   ]
  },
  {
   "cell_type": "code",
   "execution_count": 31,
   "id": "5dbe8e7d",
   "metadata": {
    "pycharm": {
     "name": "#%%\n"
    }
   },
   "outputs": [],
   "source": [
    "# As you can see, it is concatenated list of two batch\n",
    "# Let's make try the similar array\n",
    "node_features = [\n",
    "    np.array([[x, y] for x in np.linspace(0, 1, 2) for y in np.linspace(0, 1, 2)]),\n",
    "    np.array([[x, y] for x in np.linspace(1.5, 2.5, 2) for y in np.linspace(1.5, 2.5, 2)])\n",
    "]\n",
    "nparticles_per_example = [len(node_features[0]), len(node_features[1])]\n",
    "node_features = np.concatenate(node_features)\n",
    "radius = 1.5\n",
    "\n",
    "# Batch_ids are the flattened ids (0 or 1) represents\n",
    "# where the node features are come from which batch.\n",
    "batch_ids = torch.cat(\n",
    "    [torch.LongTensor([i for _ in range(n)]) for i, n in enumerate(nparticles_per_example)])\n",
    "\n",
    "# radius_graph accepts r < radius not r <= radius\n",
    "# A torch tensor list of source and target nodes with shape (2, nedges)\n",
    "edge_index = radius_graph(\n",
    "    torch.tensor(node_features), r=radius, batch=batch_ids, loop=False)\n",
    "# edge_index = np.array(edge_index)\n",
    "\n",
    "# sender and receiver\n",
    "receiver = edge_index[0, :]\n",
    "sender = edge_index[1, :]"
   ]
  },
  {
   "cell_type": "code",
   "execution_count": 34,
   "id": "8d2cfd83",
   "metadata": {
    "pycharm": {
     "name": "#%%\n"
    }
   },
   "outputs": [
    {
     "name": "stderr",
     "output_type": "stream",
     "text": [
      "/tmp/ipykernel_32199/929860915.py:2: UserWarning: To copy construct from a tensor, it is recommended to use sourceTensor.clone().detach() or sourceTensor.clone().detach().requires_grad_(True), rather than torch.tensor(sourceTensor).\n",
      "  a = torch_geometric.data.Data(x=torch.tensor(node_features), edge_index=torch.tensor(edge_index))\n"
     ]
    },
    {
     "data": {
      "image/png": "[encoded data removed]",
      "text/plain": [
       "<Figure size 432x288 with 1 Axes>"
      ]
     },
     "metadata": {},
     "output_type": "display_data"
    }
   ],
   "source": [
    "# Show graph connectivity plot\n",
    "a = torch_geometric.data.Data(x=torch.tensor(node_features), edge_index=torch.tensor(edge_index))\n",
    "g = torch_geometric.utils.to_networkx(a, to_undirected=False, remove_self_loops=False)\n",
    "nx.draw(g, with_labels=True)\n",
    "plt.show()"
   ]
  },
  {
   "cell_type": "markdown",
   "id": "02c0de17",
   "metadata": {
    "pycharm": {
     "name": "#%% md\n"
    }
   },
   "source": [
    "## Find edge index where sender==receiver"
   ]
  },
  {
   "cell_type": "code",
   "execution_count": 35,
   "id": "eb1f771a",
   "metadata": {
    "pycharm": {
     "name": "#%%\n"
    }
   },
   "outputs": [
    {
     "name": "stdout",
     "output_type": "stream",
     "text": [
      "tensor([[1, 2, 3, 0, 2, 3, 0, 1, 3, 0, 1, 2, 5, 6, 7, 4, 6, 7, 4, 5, 7, 4, 5, 6],\n",
      "        [0, 0, 0, 1, 1, 1, 2, 2, 2, 3, 3, 3, 4, 4, 4, 5, 5, 5, 6, 6, 6, 7, 7, 7]])\n",
      "tensor([[0, 0, 0, 1, 1, 1, 2, 2, 2, 3, 3, 3, 4, 4, 4, 5, 5, 5, 6, 6, 6, 7, 7, 7],\n",
      "        [1, 2, 3, 0, 2, 3, 0, 1, 3, 0, 1, 2, 5, 6, 7, 4, 6, 7, 4, 5, 7, 4, 5, 6]])\n"
     ]
    }
   ],
   "source": [
    "print(edge_index)\n",
    "print(edge_index_inverted)"
   ]
  },
  {
   "cell_type": "code",
   "execution_count": 33,
   "id": "7e24d0ae",
   "metadata": {
    "pycharm": {
     "name": "#%%\n"
    }
   },
   "outputs": [
    {
     "name": "stdout",
     "output_type": "stream",
     "text": [
      "tensor([[ 0,  3],\n",
      "        [ 1,  6],\n",
      "        [ 2,  9],\n",
      "        [ 4,  7],\n",
      "        [ 5, 10],\n",
      "        [ 8, 11],\n",
      "        [12, 15],\n",
      "        [13, 18],\n",
      "        [14, 21],\n",
      "        [16, 19],\n",
      "        [17, 22],\n",
      "        [20, 23]])\n"
     ]
    }
   ],
   "source": [
    "# Find edge index where sender==receiver\n",
    "edge_index_inverted = torch.empty(edge_index.shape, dtype=torch.int64)\n",
    "edge_index_inverted[[0, 1], :] = edge_index[[1, 0], :]\n",
    "\n",
    "bidirectional_edge_index = torch.tensor(\n",
    "    [[i, j+i] for i, sender2receiver in enumerate(edge_index.T)\n",
    "            for j, receiver2sender in enumerate(edge_index_inverted.T[i:])\n",
    "            if torch.equal(sender2receiver, receiver2sender)]\n",
    ")\n",
    "print(bidirectional_edge_index)\n",
    "\n",
    "# for i, sender2receiver in enumerate(edge_index.T):\n",
    "#     for j, receiver2sender in enumerate(edge_index_inverted.T[i:]):\n",
    "#         if torch.equal(sender2receiver, receiver2sender):\n",
    "#             print(i, j+i)"
   ]
  },
  {
   "cell_type": "code",
   "execution_count": null,
   "id": "f9b0198f",
   "metadata": {
    "pycharm": {
     "name": "#%%\n"
    }
   },
   "outputs": [],
   "source": []
  }
 ],
 "metadata": {
  "kernelspec": {
   "display_name": "venv",
   "language": "python",
   "name": "venv"
  },
  "language_info": {
   "codemirror_mode": {
    "name": "ipython",
    "version": 3
   },
   "file_extension": ".py",
   "mimetype": "text/x-python",
   "name": "python",
   "nbconvert_exporter": "python",
   "pygments_lexer": "ipython3",
   "version": "3.10.4"
  }
 },
 "nbformat": 4,
 "nbformat_minor": 5
}